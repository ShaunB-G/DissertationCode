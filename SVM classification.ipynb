{
 "cells": [
  {
   "cell_type": "code",
   "execution_count": 3,
   "id": "017e6ca2",
   "metadata": {},
   "outputs": [],
   "source": [
    "import pandas as pd\n",
    "import numpy as np\n",
    "from nltk.tokenize import word_tokenize\n",
    "from nltk import pos_tag\n",
    "from nltk.corpus import stopwords\n",
    "from nltk.stem import WordNetLemmatizer\n",
    "from sklearn.preprocessing import LabelEncoder\n",
    "from collections import defaultdict\n",
    "from nltk.corpus import wordnet as wn\n",
    "from sklearn.feature_extraction.text import TfidfVectorizer\n",
    "from sklearn import model_selection, naive_bayes, svm\n",
    "from sklearn.metrics import accuracy_score\n",
    "from sklearn.metrics import classification_report\n",
    "from sklearn.metrics import confusion_matrix\n",
    "import matplotlib.pyplot as plt\n",
    "import seaborn as sns\n",
    "import nltk"
   ]
  },
  {
   "cell_type": "code",
   "execution_count": 5,
   "id": "ec2ead02",
   "metadata": {},
   "outputs": [
    {
     "data": {
      "text/html": [
       "<div>\n",
       "<style scoped>\n",
       "    .dataframe tbody tr th:only-of-type {\n",
       "        vertical-align: middle;\n",
       "    }\n",
       "\n",
       "    .dataframe tbody tr th {\n",
       "        vertical-align: top;\n",
       "    }\n",
       "\n",
       "    .dataframe thead th {\n",
       "        text-align: right;\n",
       "    }\n",
       "</style>\n",
       "<table border=\"1\" class=\"dataframe\">\n",
       "  <thead>\n",
       "    <tr style=\"text-align: right;\">\n",
       "      <th></th>\n",
       "      <th>Unnamed: 0</th>\n",
       "      <th>count</th>\n",
       "      <th>hate_speech</th>\n",
       "      <th>offensive_language</th>\n",
       "      <th>neither</th>\n",
       "      <th>class</th>\n",
       "      <th>tweet</th>\n",
       "    </tr>\n",
       "  </thead>\n",
       "  <tbody>\n",
       "    <tr>\n",
       "      <th>0</th>\n",
       "      <td>0</td>\n",
       "      <td>3</td>\n",
       "      <td>0</td>\n",
       "      <td>0</td>\n",
       "      <td>3</td>\n",
       "      <td>2</td>\n",
       "      <td>!!! RT @mayasolovely: As a woman you shouldn't...</td>\n",
       "    </tr>\n",
       "    <tr>\n",
       "      <th>1</th>\n",
       "      <td>1</td>\n",
       "      <td>3</td>\n",
       "      <td>0</td>\n",
       "      <td>3</td>\n",
       "      <td>0</td>\n",
       "      <td>1</td>\n",
       "      <td>!!!!! RT @mleew17: boy dats cold...tyga dwn ba...</td>\n",
       "    </tr>\n",
       "    <tr>\n",
       "      <th>2</th>\n",
       "      <td>2</td>\n",
       "      <td>3</td>\n",
       "      <td>0</td>\n",
       "      <td>3</td>\n",
       "      <td>0</td>\n",
       "      <td>1</td>\n",
       "      <td>!!!!!!! RT @UrKindOfBrand Dawg!!!! RT @80sbaby...</td>\n",
       "    </tr>\n",
       "    <tr>\n",
       "      <th>3</th>\n",
       "      <td>3</td>\n",
       "      <td>3</td>\n",
       "      <td>0</td>\n",
       "      <td>2</td>\n",
       "      <td>1</td>\n",
       "      <td>1</td>\n",
       "      <td>!!!!!!!!! RT @C_G_Anderson: @viva_based she lo...</td>\n",
       "    </tr>\n",
       "    <tr>\n",
       "      <th>4</th>\n",
       "      <td>4</td>\n",
       "      <td>6</td>\n",
       "      <td>0</td>\n",
       "      <td>6</td>\n",
       "      <td>0</td>\n",
       "      <td>1</td>\n",
       "      <td>!!!!!!!!!!!!! RT @ShenikaRoberts: The shit you...</td>\n",
       "    </tr>\n",
       "  </tbody>\n",
       "</table>\n",
       "</div>"
      ],
      "text/plain": [
       "   Unnamed: 0  count  hate_speech  offensive_language  neither  class  \\\n",
       "0           0      3            0                   0        3      2   \n",
       "1           1      3            0                   3        0      1   \n",
       "2           2      3            0                   3        0      1   \n",
       "3           3      3            0                   2        1      1   \n",
       "4           4      6            0                   6        0      1   \n",
       "\n",
       "                                               tweet  \n",
       "0  !!! RT @mayasolovely: As a woman you shouldn't...  \n",
       "1  !!!!! RT @mleew17: boy dats cold...tyga dwn ba...  \n",
       "2  !!!!!!! RT @UrKindOfBrand Dawg!!!! RT @80sbaby...  \n",
       "3  !!!!!!!!! RT @C_G_Anderson: @viva_based she lo...  \n",
       "4  !!!!!!!!!!!!! RT @ShenikaRoberts: The shit you...  "
      ]
     },
     "execution_count": 5,
     "metadata": {},
     "output_type": "execute_result"
    }
   ],
   "source": [
    "np.random.seed(500)\n",
    "Corpus = pd.read_csv('labeled_data.csv',delimiter=',',encoding='latin-1')\n",
    "Corpus.head()"
   ]
  },
  {
   "cell_type": "code",
   "execution_count": 6,
   "id": "05b28608",
   "metadata": {},
   "outputs": [
    {
     "data": {
      "text/html": [
       "<div>\n",
       "<style scoped>\n",
       "    .dataframe tbody tr th:only-of-type {\n",
       "        vertical-align: middle;\n",
       "    }\n",
       "\n",
       "    .dataframe tbody tr th {\n",
       "        vertical-align: top;\n",
       "    }\n",
       "\n",
       "    .dataframe thead th {\n",
       "        text-align: right;\n",
       "    }\n",
       "</style>\n",
       "<table border=\"1\" class=\"dataframe\">\n",
       "  <thead>\n",
       "    <tr style=\"text-align: right;\">\n",
       "      <th></th>\n",
       "      <th>Unnamed: 0</th>\n",
       "      <th>count</th>\n",
       "      <th>hate_speech</th>\n",
       "      <th>offensive_language</th>\n",
       "      <th>neither</th>\n",
       "      <th>class</th>\n",
       "      <th>tweet</th>\n",
       "      <th>tweet_original</th>\n",
       "    </tr>\n",
       "  </thead>\n",
       "  <tbody>\n",
       "    <tr>\n",
       "      <th>0</th>\n",
       "      <td>0</td>\n",
       "      <td>3</td>\n",
       "      <td>0</td>\n",
       "      <td>0</td>\n",
       "      <td>3</td>\n",
       "      <td>2</td>\n",
       "      <td>[!, !, !, rt, @, mayasolovely, :, as, a, woman...</td>\n",
       "      <td>!!! RT @mayasolovely: As a woman you shouldn't...</td>\n",
       "    </tr>\n",
       "    <tr>\n",
       "      <th>1</th>\n",
       "      <td>1</td>\n",
       "      <td>3</td>\n",
       "      <td>0</td>\n",
       "      <td>3</td>\n",
       "      <td>0</td>\n",
       "      <td>1</td>\n",
       "      <td>[!, !, !, !, !, rt, @, mleew17, :, boy, dats, ...</td>\n",
       "      <td>!!!!! RT @mleew17: boy dats cold...tyga dwn ba...</td>\n",
       "    </tr>\n",
       "    <tr>\n",
       "      <th>2</th>\n",
       "      <td>2</td>\n",
       "      <td>3</td>\n",
       "      <td>0</td>\n",
       "      <td>3</td>\n",
       "      <td>0</td>\n",
       "      <td>1</td>\n",
       "      <td>[!, !, !, !, !, !, !, rt, @, urkindofbrand, da...</td>\n",
       "      <td>!!!!!!! RT @UrKindOfBrand Dawg!!!! RT @80sbaby...</td>\n",
       "    </tr>\n",
       "    <tr>\n",
       "      <th>3</th>\n",
       "      <td>3</td>\n",
       "      <td>3</td>\n",
       "      <td>0</td>\n",
       "      <td>2</td>\n",
       "      <td>1</td>\n",
       "      <td>1</td>\n",
       "      <td>[!, !, !, !, !, !, !, !, !, rt, @, c_g_anderso...</td>\n",
       "      <td>!!!!!!!!! RT @C_G_Anderson: @viva_based she lo...</td>\n",
       "    </tr>\n",
       "    <tr>\n",
       "      <th>4</th>\n",
       "      <td>4</td>\n",
       "      <td>6</td>\n",
       "      <td>0</td>\n",
       "      <td>6</td>\n",
       "      <td>0</td>\n",
       "      <td>1</td>\n",
       "      <td>[!, !, !, !, !, !, !, !, !, !, !, !, !, rt, @,...</td>\n",
       "      <td>!!!!!!!!!!!!! RT @ShenikaRoberts: The shit you...</td>\n",
       "    </tr>\n",
       "  </tbody>\n",
       "</table>\n",
       "</div>"
      ],
      "text/plain": [
       "   Unnamed: 0  count  hate_speech  offensive_language  neither  class  \\\n",
       "0           0      3            0                   0        3      2   \n",
       "1           1      3            0                   3        0      1   \n",
       "2           2      3            0                   3        0      1   \n",
       "3           3      3            0                   2        1      1   \n",
       "4           4      6            0                   6        0      1   \n",
       "\n",
       "                                               tweet  \\\n",
       "0  [!, !, !, rt, @, mayasolovely, :, as, a, woman...   \n",
       "1  [!, !, !, !, !, rt, @, mleew17, :, boy, dats, ...   \n",
       "2  [!, !, !, !, !, !, !, rt, @, urkindofbrand, da...   \n",
       "3  [!, !, !, !, !, !, !, !, !, rt, @, c_g_anderso...   \n",
       "4  [!, !, !, !, !, !, !, !, !, !, !, !, !, rt, @,...   \n",
       "\n",
       "                                      tweet_original  \n",
       "0  !!! RT @mayasolovely: As a woman you shouldn't...  \n",
       "1  !!!!! RT @mleew17: boy dats cold...tyga dwn ba...  \n",
       "2  !!!!!!! RT @UrKindOfBrand Dawg!!!! RT @80sbaby...  \n",
       "3  !!!!!!!!! RT @C_G_Anderson: @viva_based she lo...  \n",
       "4  !!!!!!!!!!!!! RT @ShenikaRoberts: The shit you...  "
      ]
     },
     "execution_count": 6,
     "metadata": {},
     "output_type": "execute_result"
    }
   ],
   "source": [
    "# 1. Removing Blank Spaces\n",
    "Corpus['tweet'].dropna(inplace=True)\n",
    "# 2. Changing all text to lowercase\n",
    "Corpus['tweet_original'] = Corpus['tweet']\n",
    "Corpus['tweet'] = [entry.lower() for entry in Corpus['tweet']]\n",
    "# 3. Tokenization-In this each entry in the corpus will be broken into set of words\n",
    "Corpus['tweet']= [word_tokenize(entry) for entry in Corpus['tweet']]\n",
    "# 4. Remove Stop words, Non-Numeric and perfoming Word Stemming/Lemmenting.\n",
    "# WordNetLemmatizer requires Pos tags to understand if the word is noun or verb or adjective etc. By default it is set to Noun\n",
    "tag_map = defaultdict(lambda : wn.NOUN)\n",
    "tag_map['J'] = wn.ADJ\n",
    "tag_map['V'] = wn.VERB\n",
    "tag_map['R'] = wn.ADV\n",
    "\n",
    "Corpus.head()"
   ]
  },
  {
   "cell_type": "code",
   "execution_count": 24,
   "id": "efdc2ebf",
   "metadata": {},
   "outputs": [],
   "source": [
    "for index,entry in enumerate(Corpus['tweet']):\n",
    "    # Declaring Empty List to store the words that follow the rules for this step\n",
    "    Final_words = []\n",
    "    # Initializing WordNetLemmatizer()\n",
    "    word_Lemmatized = WordNetLemmatizer()\n",
    "    # pos_tag function below will provide the 'tag' i.e if the word is Noun(N) or Verb(V) or something else.\n",
    "    for word, tag in pos_tag(entry):\n",
    "        # Below condition is to check for Stop words and consider only alphabets\n",
    "        if word not in stopwords.words('english') and word.isalpha():\n",
    "            word_Final = word_Lemmatized.lemmatize(word,tag_map[tag[0]])\n",
    "            Final_words.append(word_Final)\n",
    "    # The final processed set of words for each iteration will be stored in 'text_final'\n",
    "    Corpus.loc[index,'tweet_final'] = str(Final_words)"
   ]
  },
  {
   "cell_type": "code",
   "execution_count": 25,
   "id": "6d588391",
   "metadata": {},
   "outputs": [],
   "source": [
    "Train_X, Test_X, Train_Y, Test_Y = model_selection.train_test_split(Corpus['tweet_final'],Corpus['class'],test_size=0.3)\n",
    "Encoder = LabelEncoder()\n",
    "Train_Y = Encoder.fit_transform(Train_Y)\n",
    "Test_Y = Encoder.fit_transform(Test_Y)"
   ]
  },
  {
   "cell_type": "code",
   "execution_count": 26,
   "id": "a071765f",
   "metadata": {},
   "outputs": [
    {
     "name": "stdout",
     "output_type": "stream",
     "text": [
      "{'rt': 3708, 'woman': 4882, 'complain': 876, 'clean': 807, 'house': 2033, 'amp': 126, 'man': 2669, 'always': 112, 'take': 4273, 'trash': 4495, 'boy': 505, 'dat': 1048, 'cold': 850, 'tyga': 4573, 'bad': 281, 'cuffin': 996, 'hoe': 1977, 'place': 3307, 'dawg': 1057, 'ever': 1395, 'fuck': 1682, 'bitch': 419, 'start': 4119, 'cry': 985, 'confuse': 894, 'shit': 3875, 'look': 2606, 'like': 2537, 'tranny': 4492, 'hear': 1921, 'might': 2784, 'true': 4524, 'faker': 1459, 'tell': 4332, 'ya': 4925, 'blow': 451, 'claim': 799, 'faithful': 1457, 'somebody': 4021, 'still': 4149, 'sit': 3930, 'hate': 1905, 'another': 146, 'get': 1743, 'much': 2893, 'go': 1771, 'cause': 692, 'tire': 4442, 'big': 400, 'come': 860, 'skinny': 3939, 'girl': 1756, 'back': 275, 'thats': 4367, 'hobby': 1975, 'include': 2130, 'fighting': 1535, 'curve': 1014, 'everyone': 1400, 'lol': 2597, 'walk': 4733, 'conversation': 910, 'smh': 3980, 'murda': 2901, 'gang': 1718, 'land': 2457, 'smoke': 3984, 'loser': 2615, 'yea': 4946, 'ig': 2091, 'thing': 4393, 'nigga': 2999, 'miss': 2813, 'plz': 3333, 'whatever': 4806, 'love': 2624, 'cut': 1018, 'everyday': 1399, 'black': 427, 'bottle': 495, 'break': 524, 'cant': 658, 'nothing': 3050, 'cancel': 650, 'nino': 3017, 'see': 3810, 'wont': 4885, 'change': 724, 'dont': 1211, 'even': 1393, 'suck': 4210, 'dick': 1140, 'kermit': 2366, 'video': 4689, 'bout': 499, 'tip': 4440, 'toe': 4451, 'floor': 1596, 'http': 2042, 'pussy': 3464, 'lip': 2551, 'heaven': 1929, 'door': 1214, 'meet': 2728, 'ocean': 3079, 'dr': 1224, 'give': 1760, 'pill': 3284, 'need': 2955, 'trippy': 4515, 'spend': 4072, 'money': 2844, 'want': 4741, 'business': 614, 'txt': 4571, 'old': 3103, 'new': 2981, 'say': 3767, 'im': 2109, 'would': 4904, 'excite': 1413, 'aint': 72, 'murder': 2902, 'game': 1717, 'shut': 3900, 'ai': 66, 'do': 1191, 'stink': 4151, 'bitter': 424, 'wrap': 4909, 'angry': 137, 'bird': 415, 'theres': 4383, 'app': 168, 'jus': 2319, 'son': 4028, 'mane': 2671, 'as': 198, 'shot': 3888, 'lame': 2453, 'tear': 4319, 'clown': 829, 'snoop': 4002, 'momma': 2840, 'cat': 684, 'inside': 2153, 'favorite': 1490, 'nice': 2990, 'make': 2661, 'naughty': 2940, 'real': 3531, 'body': 464, 'south': 4051, 'chick': 755, 'em': 1350, 'thick': 4389, 'pimp': 3287, 'future': 1706, 'voice': 4711, 'post': 3372, 'picture': 3275, 'drug': 1256, 'quick': 3478, 'piece': 3277, 'call': 635, 'drive': 1246, 'run': 3722, 'round': 3702, 'brand': 516, 'send': 3824, 'guy': 1861, 'talk': 4278, 'trust': 4528, 'yall': 4930, 'cuffing': 997, 'never': 2978, 'dodge': 1194, 'bullet': 595, 'da': 1024, 'pregnant': 3390, 'bind': 412, 'thank': 4363, 'god': 1774, 'young': 4972, 'music': 2906, 'probably': 3413, 'twitter': 4568, 'gay': 1728, 'could': 934, 'wait': 4728, 'act': 27, 'tonight': 4461, 'ima': 2110, 'steal': 4132, 'replace': 3598, 'pitbull': 3300, 'movie': 2885, 'wan': 4739, 'na': 2917, 'model': 2831, 'russell': 3727, 'mind': 2805, 'school': 3784, 'deal': 1066, 'teacher': 4315, 'retweet': 3626, 'fucking': 1687, 'fag': 1448, 'female': 1518, 'think': 4394, 'date': 1050, 'cute': 1019, 'stuff': 4192, 'woof': 4887, 'hot': 2029, 'scally': 3772, 'lad': 2445, 'ask': 206, 'kanye': 2332, 'yes': 4957, 'bring': 549, 'ur': 4632, 'side': 3907, 'know': 2420, 'gf': 1745, 'friend': 1665, 'swear': 4250, 'sol': 4014, 'eat': 1307, 'oreo': 3135, 'dish': 1172, 'one': 3113, 'jetsandaswisher': 2266, 'maybe': 2708, 'well': 4791, 'red': 3555, 'niggah': 3000, 'please': 3324, 'use': 4640, 'complete': 877, 'sentence': 3829, 'eggplant': 1331, 'emoji': 1355, 'doe': 1196, 'scream': 3792, 'lmao': 2566, 'gt': 1838, 'sexy': 3847, 'shower': 3896, 'lt': 2634, 'eaglesnation': 1295, 'every': 1396, 'eagle': 1294, 'pic': 3270, 'racist': 3488, 'yo': 4963, 'wood': 4886, 'push': 3463, 'faggot': 1450, 'ball': 296, 'life': 2531, 'baby': 273, 'monkey': 2846, 'soooo': 4035, 'adorable': 43, 'damn': 1034, 'kill': 2387, 'ant': 148, 'way': 4764, 'must': 2908, 'chance': 721, 'ring': 3654, 'mvp': 2915, 'ppl': 3381, 'kid': 2383, 'grow': 1836, 'fact': 1445, 'tattoo': 4298, 'nipple': 3019, 'worship': 4901, 'wow': 4907, 'lose': 2614, 'piercings': 3280, 'yeah': 4947, 'blacknerdjade': 428, 'ok': 3099, 'si': 3905, 'rather': 3515, 'broke': 557, 'shrug': 3899, 'work': 4891, 'queer': 3476, 'itsnotadam': 2194, 'read': 3527, 'tweet': 4555, 'funny': 1703, 'brosconfessions': 564, 'ungrateful': 4606, 'fr': 1643, 'kidnap': 2384, 'hes': 1944, 'beaner': 350, 'mexican': 2760, 'happy': 1892, 'birthday': 417, 'nigs': 3010, 'thanks': 4364, 'chlldhoodruiner': 771, 'homework': 1995, 'hell': 1936, 'john': 2289, 'paul': 3207, 'lil': 2539, 'ugly': 4584, 'bald': 295, 'head': 1917, 'stop': 4161, 'weave': 4775, 'leaf': 2485, 'win': 4850, 'good': 1782, 'nig': 2997, 'causewereguys': 693, 'attend': 227, 'year': 4948, 'food': 1619, 'car': 667, 'retard': 3621, 'show': 3895, 'hella': 1937, 'anymore': 156, 'chill': 763, 'brought': 568, 'cowboys': 946, 'shutup': 3901, 'clicquotsuave': 813, 'foh': 1613, 'spit': 4082, 'let': 2518, 'couple': 939, 'page': 3166, 'wo': 4879, 'jail': 2214, 'trick': 4508, 'harlem': 1899, 'shake': 3853, 'excuse': 1415, 'full': 1695, 'second': 3807, 'amen': 119, 'miley': 2794, 'okay': 3100, 'bc': 346, 'damage': 1032, 'loyal': 2631, 'idc': 2079, 'lick': 2528, 'meow': 2745, 'check': 742, 'ny': 3070, 'fan': 1469, 'stand': 4111, 'happen': 1890, 'ran': 3498, 'throw': 4417, 'nude': 3059, 'pat': 3195, 'hold': 1981, 'anyway': 160, 'wrong': 4914, 'nobody': 3023, 'type': 4576, 'dm': 1187, 'top': 4466, 'baseball': 325, 'season': 3803, 'yankee': 4932, 'little': 2558, 'stupid': 4197, 'really': 3535, 'dead': 1064, 'serious': 3833, 'tho': 4400, 'early': 1299, 'night': 3008, 'wise': 4864, 'worm': 4898, 'heavy': 1930, 'sound': 4046, 'day': 1059, 'pit': 3299, 'bull': 594, 'lovely': 2625, 'fairy': 1455, 'tale': 4275, 'creature': 962, 'aw': 246, 'long': 2603, 'lakers': 2451, 'cc': 698, 'hahaha': 1870, 'anything': 158, 'kiss': 2404, 'funnypicsdepot': 1705, 'play': 3318, 'soccer': 4007, 'cheat': 740, 'wear': 4772, 'khaki': 2376, 'colour': 856, 'cargo': 673, 'haircut': 1874, 'yup': 4986, 'fat': 1483, 'lap': 2460, 'das': 1047, 'finna': 1555, 'ta': 4263, 'rule': 3720, 'anybody': 155, 'cousin': 942, 'jersey': 2259, 'thinkin': 4395, 'move': 2883, 'los': 2611, 'pie': 3276, 'girlthatsvonte': 1759, 'meat': 2721, 'slap': 3950, 'ass': 209, 'bruh': 573, 'wit': 4867, 'edge': 1322, 'treat': 4499, 'nah': 2922, 'sweet': 4254, 'bag': 288, 'sex': 3843, 'mom': 2837, 'right': 3650, 'hack': 1866, 'eye': 1433, 'open': 3122, 'watch': 4757, 'lmfao': 2573, 'woulda': 4905, 'coulda': 935, 'shoulda': 3889, 'bday': 347, 'roll': 3679, 'wcw': 4769, 'duh': 1271, 'sack': 3734, 'pass': 3190, 'glad': 1762, 'outta': 3153, 'atlanta': 222, 'bunch': 604, 'dumb': 1275, 'mad': 2651, 'fuckin': 1686, 'ghetto': 1746, 'smart': 3972, 'wife': 4837, 'cuz': 1021, 'care': 670, 'force': 1625, 'relationship': 3579, 'first': 1561, 'hornyfacts': 2020, 'single': 3923, 'white': 4823, 'power': 3380, 'drunk': 1258, 'spark': 4062, 'blunts': 455, 'bro': 554, 'dude': 1268, 'around': 190, 'world': 4895, 'party': 3188, 'set': 3838, 'oomf': 3118, 'lot': 2617, 'cartoon': 679, 'save': 3765, 'captain': 664, 'nose': 3045, 'sox': 4054, 'leg': 2501, 'jamesynba': 2222, 'wish': 4865, 'brother': 567, 'bet': 385, 'dress': 1238, 'halloween': 1879, 'basic': 331, 'pornhub': 3364, 'stream': 4171, 'feature': 1502, 'gtfo': 1841, 'joebudden': 2286, 'scar': 3776, 'choke': 775, 'hit': 1967, 'bed': 360, 'ha': 1864, 'kazatta': 2351, 'oh': 3094, 'molly': 2836, 'ho': 1973, 'seed': 3811, 'fix': 1569, 'refer': 3561, 'keyshawnswag': 2372, 'beat': 355, 'finally': 1549, 'peel': 3230, 'line': 2545, 'tf': 4358, 'kingcuh': 2398, 'io': 2171, 'alu': 111, 'record': 3551, 'vine': 4694, 'pe': 3217, 'hahahaha': 1872, 'haha': 1868, 'naw': 2941, 'tape': 4292, 'cover': 943, 'mixtape': 2820, 'mayne': 2709, 'ol': 3102, 'dirty': 1160, 'foot': 1623, 'yellow': 4954, 'flag': 1571, 'amazing': 117, 'time': 4436, 'actin': 28, 'iffy': 2090, 'stay': 4127, 'alive': 92, 'knight': 2416, 'nation': 2934, 'special': 4067, 'smfh': 3979, 'wonder': 4883, 'decent': 1073, 'stud': 4188, 'keep': 2355, 'thinking': 4396, 'soft': 4012, 'many': 2679, 'stfu': 4145, 'bye': 623, 'dry': 1261, 'blame': 431, 'condom': 890, 'gucci': 1847, 'drop': 1252, 'month': 2851, 'ca': 626, 'text': 4353, 'wats': 4762, 'lebronvuitton': 2497, 'without': 4872, 'daddy': 1026, 'issue': 2188, 'find': 1550, 'mewtwo': 2759, 'easy': 1306, 'cum': 1001, 'charlie': 734, 'sheen': 3862, 'major': 2659, 'respect': 3614, 'bae': 286, 'twerking': 4561, 'cook': 914, 'wtf': 4915, 'zoe': 4993, 'fight': 1533, 'along': 102, 'snake': 3990, 'booty': 482, 'everywhere': 1403, 'tune': 4541, 'update': 4622, 'report': 3601, 'week': 4782, 'bum': 598, 'oregon': 3134, 'field': 1531, 'program': 3420, 'def': 1084, 'cowboy': 945, 'best': 383, 'tv': 4551, 'romo': 3684, 'lmfaoooo': 2576, 'people': 3239, 'https': 2043, 'nigger': 3004, 'pissed': 3297, 'past': 3193, 'sleep': 3954, 'frat': 1649, 'fam': 1463, 'depend': 1110, 'feel': 1509, 'hick': 1949, 'america': 121, 'mean': 2718, 'vagina': 4646, 'nasty': 2932, 'actually': 34, 'choose': 776, 'mileycyrus': 2795, 'vibe': 4679, 'try': 4530, 'dis': 1161, 'af': 47, 'tight': 4430, 'shirt': 3874, 'everybody': 1397, 'may': 2707, 'climate': 814, 'beautiful': 357, 'nickiminaj': 2994, 'purple': 3459, 'gurl': 1858, 'playin': 3321, 'track': 4483, 'sum': 4224, 'taller': 4283, 'obsess': 3076, 'mine': 2806, 'kobe': 2426, 'forget': 1631, 'nochillpaz': 3024, 'least': 2492, 'mixed': 2819, 'asian': 204, 'coward': 944, 'cripple': 970, 'hero': 1943, 'roach': 3664, 'lmaoo': 2567, 'home': 1989, 'imaginary': 2112, 'whoa': 4825, 'everything': 1401, 'lowkey': 2629, 'quiet': 3480, 'prayingforhead': 3386, 'weird': 4788, 'mention': 2743, 'weak': 4770, 'advice': 45, 'speed': 4070, 'quote': 3483, 'animal': 138, 'stripper': 4182, 'ballet': 298, 'pop': 3357, 'double': 1217, 'vision': 4704, 'beer': 363, 'twerk': 4559, 'computer': 881, 'art': 195, 'takin': 4274, 'aid': 68, 'slander': 3947, 'role': 3678, 'hide': 1950, 'tree': 4501, 'iemonaids': 2089, 'drake': 1229, 'shoe': 3882, 'release': 3582, 'dudes': 1269, 'di': 1135, 'alone': 101, 'austin': 237, 'teach': 4314, 'expect': 1419, 'rnadjorell': 3663, 'cyrus': 1023, 'naked': 2925, 'lmaooo': 2568, 'tony': 4463, 'fuk': 1692, 'holy': 1988, 'chocolate': 773, 'factory': 1446, 'laugh': 2472, 'anonymous': 145, 'follower': 1618, 'clearly': 809, 'annoying': 144, 'catfish': 689, 'slick': 3957, 'niggas': 3002, 'catching': 687, 'worry': 4900, 'insecure': 2152, 'handle': 1885, 'tent': 4344, 'share': 3857, 'hungry': 2058, 'problem': 3415, 'dese': 1118, 'lyin': 2643, 'sportscenter': 4090, 'eli': 1344, 'manning': 2676, 'senior': 3825, 'rb': 3522, 'anthony': 150, 'brown': 570, 'coach': 836, 'steve': 4139, 'quit': 3481, 'team': 4316, 'guess': 1848, 'also': 109, 'zero': 4988, 'impress': 2121, 'simple': 3915, 'control': 909, 'idk': 2085, 'blah': 430, 'cuh': 998, 'crazy': 958, 'gon': 1781, 'slice': 3956, 'kevin': 2369, 'hart': 1901, 'fine': 1551, 'dam': 1031, 'drink': 1241, 'later': 2467, 'thigh': 4390, 'front': 1671, 'ipad': 2175, 'friday': 1662, 'tropicalblanket': 4520, 'theomaxximus': 4377, 'yesterday': 4958, 'test': 4350, 'forever': 1630, 'voiceofdstreetz': 4712, 'taste': 4294, 'bobby': 462, 'live': 2559, 'workout': 4894, 'stoner': 4159, 'ride': 3645, 'bar': 313, 'uberfacts': 4580, 'sad': 3735, 'character': 728, 'death': 1070, 'ned': 2954, 'bus': 611, 'lana': 2454, 'rey': 3635, 'bitchy': 422, 'vineforthebyrd': 4695, 'explain': 1423, 'help': 1940, 'fighter': 1534, 'jihadi': 2274, 'aww': 256, 'avis': 244, 'together': 4452, 'ike': 2102, 'avi': 243, 'expose': 1425, 'size': 3935, 'exactly': 1410, 'healthy': 1920, 'kim': 2393, 'near': 2950, 'protect': 3435, 'annoy': 143, 'dope': 1215, 'loco': 2592, 'girlfriend': 1757, 'aye': 261, 'pullin': 3451, 'taught': 4299, 'bruno': 576, 'sike': 3911, 'beef': 362, 'rally': 3496, 'bottom': 496, 'youngricooo': 4973, 'person': 3251, 'pal': 3171, 'stack': 4104, 'till': 4433, 'yungmigo': 4985, 'hard': 1894, 'fucc': 1678, 'yee': 4949, 'rich': 3639, 'homie': 1996, 'homeboy': 1990, 'nicca': 2988, 'ewww': 1408, 'last': 2463, 'sunday': 4228, 'punch': 3454, 'face': 1441, 'strong': 4184, 'fresh': 1658, 'something': 4025, 'stank': 4113, 'great': 1821, 'texan': 4351, 'nd': 2948, 'dark': 1043, 'blonde': 448, 'several': 3841, 'seat': 3804, 'lane': 2458, 'left': 2499, 'deny': 1108, 'butt': 618, 'straight': 4164, 'bos': 489, 'corner': 925, 'gettin': 1744, 'weekend': 4783, 'betta': 387, 'street': 4172, 'lock': 2591, 'college': 852, 'military': 2797, 'different': 1146, 'story': 4163, 'ratchet': 3513, 'trainer': 4488, 'sniff': 3999, 'sosa': 4042, 'legit': 2507, 'prob': 3412, 'name': 2926, 'idea': 2080, 'mr': 2887, 'thug': 4421, 'phone': 3264, 'marry': 2689, 'demand': 1100, 'he': 1915, 'position': 3367, 'soul': 4043, 'bore': 485, 'suppose': 4238, 'sometimes': 4026, 'treasure': 4498, 'doubt': 1218, 'teeth': 4330, 'gold': 1777, 'chain': 716, 'cocaine': 839, 'thots': 4404, 'across': 26, 'driver': 1247, 'lie': 2530, 'put': 3465, 'tryin': 4532, 'score': 3788, 'mouth': 2882, 'trevaughnlg': 4505, 'tht': 4419, 'huh': 2048, 'redneck': 3556, 'victoria': 4687, 'distance': 1179, 'wack': 4721, 'uh': 4586, 'ban': 305, 'pay': 3209, 'dollar': 1203, 'rose': 3696, 'violet': 4698, 'blue': 453, 'window': 4852, 'fly': 1604, 'smack': 3970, 'peta': 3255, 'entire': 1372, 'medium': 2724, 'likely': 2538, 'mock': 2830, 'crybaby': 986, 'shy': 3902, 'hi': 1948, 'smile': 3981, 'dip': 1155, 'cracker': 949, 'soup': 4048, 'tim': 4434, 'nfl': 2987, 'already': 106, 'karma': 2341, 'sip': 3925, 'tea': 4311, 'gym': 1863, 'patron': 3203, 'arrest': 191, 'turn': 4545, 'thts': 4420, 'abortion': 6, 'idntwearcondoms': 2086, 'argue': 182, 'weed': 4781, 'public': 3445, 'cop': 920, 'watermelon': 4761, 'rapper': 3509, 'link': 2549, 'loud': 2621, 'tomorrow': 4457, 'barackobama': 315, 'pretend': 3396, 'um': 4591, 'jayswaggkillah': 2237, 'cheese': 747, 'ah': 60, 'reason': 3540, 'photo': 3265, 'sole': 4016, 'baddest': 284, 'tweakin': 4554, 'shmurda': 3879, 'spook': 4088, 'neck': 2953, 'sorry': 4039, 'savage': 3763, 'kinky': 2402, 'press': 3394, 'oreos': 3136, 'nikki': 3012, 'screen': 3794, 'asap': 199, 'shoot': 3883, 'sumn': 4226, 'frfr': 1660, 'there': 4381, 'two': 4569, 'enjoy': 1368, 'metroadlib': 2757, 'colored': 855, 'contact': 906, 'poonsoaker': 3354, 'period': 3248, 'die': 1142, 'high': 1953, 'neva': 2977, 'sister': 3929, 'perfect': 3244, 'pretty': 3397, 'easily': 1303, 'behind': 366, 'nip': 3018, 'chaplin': 727, 'history': 1966, 'photography': 3266, 'cool': 917, 'sure': 4239, 'source': 4050, 'news': 2983, 'broadcast': 556, 'nbc': 2946, 'abc': 2, 'cnn': 834, 'fox': 1640, 'etc': 1388, 'cigarette': 791, 'rn': 3662, 'brownie': 571, 'kind': 2395, 'someone': 4023, 'hurt': 2064, 'leave': 2494, 'yah': 4928, 'thang': 4362, 'slope': 3964, 'rugbysocklad': 3718, 'fit': 1565, 'gear': 1732, 'mate': 2700, 'action': 29, 'next': 2984, 'promise': 3425, 'fucker': 1685, 'celebrity': 705, 'local': 2589, 'saw': 3766, 'listen': 2555, 'rank': 3504, 'sneak': 3995, 'childish': 762, 'yasss': 4940, 'bestfriend': 384, 'remember': 3588, 'wop': 4888, 'omg': 3109, 'raw': 3518, 'french': 1657, 'nothin': 3049, 'free': 1653, 'write': 4913, 'panty': 3175, 'burrito': 610, 'catch': 685, 'whole': 4827, 'hardcore': 1895, 'mac': 2648, 'boil': 466, 'water': 4760, 'powder': 3379, 'fade': 1447, 'rite': 3659, 'trestiffer': 4504, 'chase': 737, 'newly': 2982, 'kno': 2417, 'job': 2284, 'become': 359, 'awww': 257, 'ainn': 71, 'feeling': 1511, 'bite': 423, 'dem': 1099, 'dea': 1063, 'albino': 82, 'order': 3133, 'chinese': 766, 'taco': 4268, 'lunch': 2638, 'elizabethbatman': 1348, 'soon': 4033, 'political': 3344, 'view': 4690, 'whore': 4829, 'devil': 1130, 'away': 250, 'child': 761, 'word': 4889, 'else': 1349, 'batter': 340, 'wee': 4780, 'cunt': 1003, 'co': 835, 'ex': 1409, 'emma': 1354, 'isnt': 2186, 'nail': 2924, 'ive': 2199, 'urself': 4638, 'realist': 3532, 'feelin': 1510, 'ape': 165, 'yank': 4931, 'dad': 1025, 'snapchat': 3992, 'believe': 369, 'fall': 1460, 'song': 4029, 'weeknd': 4784, 'alright': 107, 'download': 1221, 'tired': 4443, 'foreign': 1629, 'dragon': 1227, 'box': 504, 'ability': 3, 'via': 4676, 'bear': 352, 'detroit': 1129, 'wigger': 4844, 'unless': 4616, 'stab': 4103, 'heart': 1924, 'password': 3192, 'lucky': 2636, 'uncle': 4597, 'account': 20, 'imma': 2114, 'grandma': 1813, 'carl': 674, 'hey': 1946, 'ohio': 3096, 'draft': 1225, 'folk': 1616, 'war': 4743, 'zone': 4995, 'hotter': 2031, 'hilarious': 1956, 'negro': 2960, 'dog': 1198, 'billy': 410, 'hillbilly': 1959, 'jesus': 2262, 'murphy': 2904, 'liquor': 2553, 'chief': 758, 'chug': 788, 'alot': 103, 'tongue': 4460, 'jada': 2211, 'queen': 3475, 'rid': 3644, 'niece': 2995, 'married': 2688, 'bang': 309, 'heard': 1922, 'candy': 654, 'hope': 2015, 'lady': 2446, 'williams': 4847, 'number': 3062, 'eatin': 1310, 'either': 1335, 'dream': 1237, 'sell': 3818, 'men': 2738, 'mature': 2705, 'fool': 1621, 'prolly': 3423, 'cup': 1004, 'hand': 1883, 'wolf': 4881, 'hair': 1873, 'flock': 1594, 'strike': 4179, 'dike': 1149, 'yg': 4962, 'unique': 4611, 'separate': 3830, 'phrase': 3268, 'wake': 4731, 'sir': 3927, 'manager': 2670, 'slit': 3963, 'funky': 1701, 'honkey': 2003, 'shout': 3891, 'macklemore': 2650, 'compare': 873, 'kfc': 2374, 'personality': 3253, 'goddamn': 1775, 'rise': 3657, 'yell': 4952, 'middle': 2779, 'surround': 4244, 'piss': 3296, 'waste': 4755, 'prayer': 3385, 'main': 2658, 'cinnamon': 792, 'apple': 171, 'sick': 3906, 'jonniesantana': 2298, 'feed': 1507, 'geno': 1739, 'yet': 4960, 'pick': 3271, 'dig': 1147, 'kingl': 2401, 'shorty': 3887, 'wizkhalifa': 4877, 'room': 3690, 'wave': 4763, 'tie': 4428, 'basement': 329, 'anthem': 149, 'accept': 15, 'larry': 2462, 'blind': 441, 'husband': 2065, 'late': 2465, 'tag': 4271, 'dyke': 1292, 'julia': 2310, 'robert': 3668, 'follow': 1617, 'brick': 543, 'mama': 2668, 'wendy': 4794, 'davis': 1056, 'scientist': 3787, 'create': 960, 'study': 4191, 'penguin': 3235, 'spank': 4060, 'correct': 927, 'pimpin': 3288, 'involve': 2170, 'pound': 3375, 'cake': 631, 'light': 2535, 'net': 2974, 'wat': 4756, 'van': 4651, 'je': 2241, 'ik': 2101, 'dmx': 1189, 'kirk': 2403, 'franklin': 1648, 'neighbor': 2962, 'porch': 3361, 'broken': 558, 'knife': 2415, 'motha': 2869, 'knowin': 2421, 'bra': 508, 'admit': 40, 'able': 4, 'since': 3919, 'loss': 2616, 'flame': 1574, 'yr': 4981, 'super': 4232, 'meanwhile': 2720, 'boat': 460, 'kendrick': 2363, 'lamar': 2452, 'base': 324, 'laughing': 2474, 'race': 3484, 'pistol': 3298, 'whip': 4821, 'club': 831, 'freestyle': 1655, 'timeline': 4437, 'remy': 3593, 'belly': 371, 'justin': 2327, 'comment': 865, 'million': 2801, 'incredible': 2134, 'necessary': 2952, 'chicken': 756, 'selling': 3820, 'material': 2701, 'fast': 1481, 'tupac': 4542, 'remix': 3591, 'aka': 77, 'shall': 3854, 'thee': 4371, 'summer': 4225, 'shape': 3856, 'organic': 3137, 'wigga': 4843, 'florida': 1599, 'slow': 3966, 'classy': 805, 'football': 1624, 'player': 3320, 'shove': 3893, 'needle': 2957, 'dirt': 1159, 'finger': 1553, 'plain': 3308, 'chunky': 789, 'selfish': 3817, 'wicked': 4833, 'color': 854, 'student': 4189, 'callin': 636, 'pickin': 3273, 'sour': 4049, 'oriole': 3141, 'petty': 3257, 'band': 307, 'saint': 3737, 'nfc': 2986, 'hat': 1904, 'motherfucker': 2871, 'leftover': 2500, 'broad': 555, 'represent': 3603, 'road': 3665, 'giant': 1748, 'al': 79, 'antonio': 153, 'empty': 1360, 'hoes': 1978, 'lookin': 2607, 'low': 2628, 'virgin': 4699, 'regular': 3573, 'luv': 2641, 'ole': 3104, 'titty': 4446, 'phat': 3260, 'spic': 4073, 'biology': 414, 'spam': 4058, 'squad': 4097, 'jiggaboo': 2273, 'marriage': 2687, 'beyond': 392, 'fags': 1452, 'chris': 779, 'six': 3934, 'green': 1823, 'ranger': 3503, 'evil': 1404, 'burn': 608, 'question': 3477, 'rough': 3701, 'cooky': 916, 'yardie': 4935, 'horn': 2018, 'tryna': 4534, 'porn': 3363, 'smell': 3976, 'pus': 3462, 'flower': 1601, 'end': 1362, 'gunna': 1857, 'spear': 4066, 'chucker': 787, 'response': 3616, 'boys': 507, 'pull': 3450, 'jake': 2215, 'bell': 370, 'morning': 2862, 'miracle': 2810, 'today': 4449, 'swerve': 4256, 'retarded': 3622, 'total': 4471, 'diaper': 1137, 'image': 2111, 'redskins': 3558, 'joke': 2295, 'garden': 1722, 'flat': 1577, 'slut': 3968, 'cash': 681, 'star': 4114, 'far': 1474, 'playing': 3322, 'clipper': 819, 'ariana': 184, 'ayo': 265, 'handicapped': 1884, 'scalp': 3773, 'close': 823, 'triple': 4512, 'freak': 1650, 'rosestokoe': 3697, 'root': 3693, 'drama': 1230, 'johnson': 2292, 'catchin': 686, 'jumbotron': 2312, 'settle': 3839, 'hater': 1906, 'youtube': 4979, 'large': 2461, 'cu': 992, 'luke': 2637, 'lilbthebasedgod': 2540, 'wasnt': 4752, 'id': 2078, 'deck': 1076, 'combo': 859, 'keeper': 2356, 'rip': 3655, 'apart': 164, 'britney': 552, 'bible': 395, 'bright': 547, 'studio': 4190, 'mufuckin': 2896, 'crib': 967, 'skin': 3938, 'suit': 4223, 'assume': 216, 'lord': 2610, 'poor': 3356, 'whitey': 4824, 'bros': 563, 'fabulous': 1440, 'naa': 2918, 'nae': 2919, 'latinas': 2469, 'kardashian': 2337, 'mini': 2807, 'fridge': 1663, 'twat': 4552, 'pipe': 3294, 'wth': 4916, 'moment': 2839, 'rain': 3493, 'needy': 2958, 'sideline': 3908, 'facebook': 1442, 'campus': 646, 'fa': 1437, 'blowin': 452, 'tl': 4447, 'spare': 4061, 'leavin': 2495, 'fun': 1697, 'wilson': 4849, 'enough': 1369, 'wash': 4749, 'teabagger': 4312, 'state': 4123, 'tcot': 4308, 'teaparty': 4317, 'retweets': 3628, 'wet': 4801, 'obama': 3074, 'syria': 4261, 'embarrass': 1352, 'rangel': 3502, 'remain': 3587, 'bob': 461, 'fish': 1562, 'breaking': 526, 'ap': 163, 'mass': 2694, 'governor': 1802, 'baker': 294, 'wcvb': 4768, 'online': 3114, 'loop': 2608, 'bartender': 323, 'design': 1122, 'pain': 3167, 'gop': 1790, 'exist': 1416, 'creator': 961, 'pure': 3457, 'passion': 3191, 'blessjesus': 439, 'amos': 124, 'except': 1412, 'agree': 59, 'justice': 2325, 'court': 941, 'truth': 4529, 'crown': 979, 'air': 73, 'father': 1484, 'aunt': 236, 'mary': 2691, 'diet': 1144, 'bean': 349, 'california': 634, 'whine': 4817, 'muslim': 2907, 'moses': 2866, 'otherwise': 3147, 'actor': 32, 'crack': 948, 'allow': 96, 'tuck': 4537, 'penis': 3236, 'boob': 474, 'hood': 2007, 'self': 3814, 'degenerateartist': 1092, 'bless': 437, 'fake': 1458, 'card': 668, 'bride': 544, 'yard': 4934, 'witch': 4868, 'turd': 4543, 'evolve': 1405, 'bo': 457, 'slang': 3948, 'drum': 1257, 'swing': 4258, 'flick': 1588, 'alarm': 81, 'fire': 1556, 'downtown': 1223, 'hairy': 1876, 'scary': 3780, 'sense': 3827, 'sneeze': 3998, 'dutch': 1286, 'outside': 3152, 'dawn': 1058, 'city': 796, 'ebola': 1315, 'flu': 1603, 'policy': 3343, 'host': 2027, 'teabaggers': 4313, 'tail': 4272, 'earth': 1301, 'keyshbechillin': 2373, 'dayum': 1060, 'attention': 228, 'ijs': 2100, 'jig': 2270, 'firecashman': 1557, 'royal': 3706, 'october': 3080, 'trend': 4502, 'cus': 1015, 'montana': 2850, 'mo': 2827, 'glory': 1767, 'glizzy': 1765, 'feat': 1500, 'tha': 4361, 'injun': 2145, 'mess': 2749, 'huffingtonpost': 2045, 'pumpkin': 3453, 'spice': 4074, 'opening': 3123, 'serve': 3835, 'sample': 3747, 'vegan': 4655, 'upon': 4625, 'unto': 4621, 'warrior': 4748, 'instead': 2156, 'ruin': 3719, 'others': 3146, 'leader': 2484, 'cruz': 984, 'lee': 2498, 'iu': 2197, 'champion': 720, 'hoosiernation': 2013, 'hoosier': 2012, 'cooler': 918, 'international': 2163, 'jk': 2282, 'lesbian': 2514, 'sport': 4089, 'grade': 1806, 'didnt': 1141, 'redskin': 3557, 'commie': 867, 'hunter': 2060, 'biden': 397, 'dust': 1284, 'liberal': 2525, 'iraq': 2177, 'gov': 1800, 'troop': 4518, 'defeat': 1085, 'isi': 2182, 'soldier': 4015, 'jihadis': 2275, 'rave': 3516, 'jesuschrist': 2263, 'shainarakia': 3852, 'offer': 3085, 'lingo': 2548, 'niccas': 2989, 'tryn': 4533, 'calm': 638, 'average': 242, 'ill': 2104, 'makin': 2664, 'plate': 3316, 'spanish': 4059, 'slutty': 3969, 'remind': 3590, 'century': 712, 'celebrate': 704, 'billion': 408, 'comb': 858, 'yer': 4956, 'beard': 353, 'wiggers': 4845, 'nowplaying': 3056, 'bt': 581, 'sky': 3944, 'radio': 3490, 'edit': 1323, 'twice': 4562, 'ian': 2074, 'wasp': 4753, 'texas': 4352, 'hundred': 2056, 'meter': 2755, 'niqqa': 3020, 'november': 3052, 'ticket': 4427, 'continue': 907, 'iubb': 2198, 'finish': 1554, 'nba': 2945, 'pacer': 3164, 'indiana': 2138, 'though': 4407, 'breast': 527, 'solve': 4020, 'usually': 4643, 'fbi': 1496, 'andy': 133, 'politics': 3346, 'talkin': 4280, 'smash': 3973, 'homies': 1997, 'focus': 1611, 'rebelscience': 3543, 'cloud': 828, 'hog': 1979, 'windturbines': 4853, 'actual': 33, 'lab': 2439, 'natural': 2937, 'rome': 3682, 'redsox': 3559, 'knock': 2419, 'granny': 1815, 'fantastic': 1472, 'ready': 3529, 'sweep': 4253, 'yankees': 4933, 'yost': 4970, 'midnight': 2781, 'shoutout': 3892, 'salute': 3745, 'exit': 1417, 'niggahs': 3001, 'capotoheaven': 663, 'pineapple': 3290, 'soda': 4011, 'ay': 260, 'case': 680, 'west': 4798, 'virus': 4703, 'infection': 2141, 'orange': 3132, 'county': 938, 'carry': 676, 'tbt': 4307, 'ling': 2546, 'david': 1055, 'scandal': 3774, 'decide': 1074, 'wall': 4735, 'hurricane': 2062, 'katrina': 2344, 'deez': 1082, 'half': 1877, 'stroke': 4183, 'dump': 1279, 'extremely': 1432, 'zimmerman': 4990, 'creepy': 965, 'ag': 55, 'virginia': 4700, 'usa': 4639, 'peanut': 3222, 'butter': 619, 'four': 1639, 'point': 3337, 'scale': 3771, 'penny': 3237, 'shave': 3860, 'jeter': 2265, 'inning': 2149, 'fitting': 1567, 'sec': 3806, 'robertson': 3669, 'pitcher': 3301, 'astros': 217, 'series': 3832, 'finale': 1548, 'nine': 3015, 'price': 3400, 'douche': 1219, 'joe': 2285, 'flex': 1586, 'earn': 1300, 'upper': 4626, 'strength': 4173, 'hmm': 1970, 'hr': 2038, 'sale': 3740, 'gardner': 1723, 'tanaka': 4289, 'rest': 3618, 'bounce': 497, 'michael': 2769, 'kay': 2347, 'pineda': 3291, 'tank': 4290, 'mlb': 2822, 'three': 4413, 'ray': 3519, 'yeswedid': 4959, 'build': 592, 'possible': 3371, 'vote': 4718, 'proud': 3437, 'la': 2438, 'weather': 4774, 'horrible': 2021, 'boom': 477, 'washington': 4750, 'space': 4056, 'horse': 2023, 'hello': 1938, 'ahead': 63, 'pocket': 3336, 'cancer': 651, 'foxnews': 1641, 'democrat': 1101, 'fair': 1454, 'network': 2976, 'liar': 2523, 'gouache': 1799, 'mt': 2892, 'tiki': 4431, 'peace': 3218, 'cody': 846, 'anyone': 157, 'famous': 1467, 'family': 1466, 'hang': 1887, 'ncaa': 2947, 'pierce': 3279, 'champ': 718, 'totally': 4472, 'metal': 2754, 'honky': 2005, 'wetback': 4802, 'morningjoe': 2863, 'prove': 3438, 'con': 882, 'emotion': 1357, 'decision': 1075, 'motto': 2878, 'vinyl': 4696, 'witcha': 4869, 'ona': 3112, 'plastic': 3315, 'rocky': 3675, 'niggaz': 3003, 'android': 132, 'iphone': 2176, 'xxx': 4924, 'anal': 129, 'part': 3185, 'british': 551, 'bbw': 345, 'brazilian': 521, 'babe': 272, 'ebony': 1316, 'beach': 348, 'rub': 3711, 'tit': 4444, 'closeup': 825, 'squirt': 4101, 'asshole': 212, 'amateur': 115, 'milf': 2796, 'beauty': 358, 'japanese': 2227, 'desi': 1121, 'spicy': 4075, 'oriental': 3139, 'paki': 3170, 'un': 4593, 'deep': 1081, 'wild': 4846, 'ram': 3497, 'fisting': 1564, 'loose': 2609, 'cream': 959, 'cumming': 1002, 'dildo': 1150, 'rubber': 3712, 'homemade': 1994, 'italian': 2189, 'latina': 2468, 'pump': 3452, 'lingerie': 2547, 'german': 1742, 'cock': 840, 'small': 3971, 'teen': 4328, 'toy': 4482, 'silver': 3914, 'reagan': 3530, 'xbox': 4922, 'imtoomuch': 2124, 'realtalk': 3538, 'truck': 4523, 'rejectedpeanutsspecials': 3577, 'graduation': 1807, 'rate': 3514, 'president': 3393, 'clap': 802, 'precious': 3388, 'gook': 1788, 'rap': 3506, 'jimmy': 2278, 'mississippi': 2815, 'oppose': 3128, 'wage': 4724, 'labor': 2441, 'law': 2476, 'union': 4610, 'slavery': 3952, 'mike': 2789, 'ti': 4425, 'drrrruuuu': 1255, 'vega': 4654, 'everytime': 1402, 'kitchen': 2406, 'sing': 3920, 'rock': 3672, 'bid': 396, 'bud': 588, 'tn': 4448, 'plus': 3332, 'trip': 4511, 'visit': 4705, 'st': 4102, 'fin': 1546, 'killer': 2390, 'josh': 2301, 'smith': 3983, 'peachdulce': 3220, 'salad': 3739, 'vianawf': 4678, 'crow': 977, 'dun': 1281, 'lotta': 2618, 'fck': 1497, 'orleans': 3142, 'coon': 919, 'condo': 889, 'yep': 4955, 'officiallyice': 3090, 'tom': 4455, 'mark': 2685, 'deaf': 1065, 'mc': 2711, 'kwagiheath': 2435, 'sh': 3848, 'congrats': 896, 'housewife': 2034, 'shitty': 3878, 'needa': 2956, 'ogbeard': 3093, 'yassss': 4941, 'hop': 2014, 'kekepalmer': 2359, 'trap': 4494, 'ugh': 4583, 'simply': 3916, 'flawless': 1581, 'short': 3886, 'important': 2119, 'temporary': 4336, 'bullshit': 596, 'rude': 3715, 'worth': 4902, 'quarter': 3473, 'mimi': 2802, 'theonlyreed': 4378, 'lean': 2488, 'jusdahl': 2320, 'nope': 3038, 'hittin': 1969, 'course': 940, 'dmv': 1188, 'stomach': 4156, 'mufucka': 2895, 'yu': 4982, 'pose': 3366, 'vonshayeb': 4715, 'legend': 2504, 'texting': 4356, 'thot': 4402, 'sayin': 3768, 'cookie': 915, 'mistake': 2817, 'lrt': 2633, 'burnt': 609, 'challenge': 717, 'callneeshcakey': 637, 'shady': 3851, 'tu': 4536, 'rookie': 3689, 'relax': 3581, 'hobbit': 1974, 'brittany': 553, 'itsnotharold': 2195, 'sellin': 3819, 'pork': 3362, 'chop': 778, 'grill': 1829, 'lay': 2479, 'kfromtheg': 2375, 'silly': 3913, 'cheap': 739, 'tacky': 4267, 'charlotte': 736, 'goon': 1789, 'bank': 311, 'stadium': 4105, 'kinda': 2396, 'buy': 622, 'bucket': 587, 'honestly': 2001, 'leash': 2491, 'snap': 3991, 'chat': 738, 'bffl': 394, 'shade': 3849, 'drawing': 1233, 'roster': 3699, 'nerve': 2971, 'dinner': 1154, 'nap': 2928, 'funnyjulius': 1704, 'honkie': 2004, 'shovel': 3894, 'bat': 337, 'ak': 76, 'bouta': 500, 'delete': 1095, 'worker': 4892, 'rachel': 3485, 'yass': 4939, 'vikkinosecrets': 4691, 'kinghorsedick': 2399, 'welp': 4792, 'science': 3786, 'step': 4136, 'moreno': 2859, 'recruit': 3553, 'bm': 456, 'guidance': 1849, 'miserable': 2812, 'til': 4432, 'boyfriend': 506, 'sink': 3924, 'min': 2803, 'silence': 3912, 'vodka': 4710, 'bend': 376, 'midcityace': 2778, 'strip': 4181, 'mall': 2667, 'threesome': 4414, 'amaze': 116, 'answer': 147, 'genius': 1738, 'class': 803, 'se': 3799, 'el': 1336, 'de': 1062, 'jap': 2225, 'satan': 3757, 'making': 2665, 'project': 3422, 'harvard': 1902, 'chillin': 764, 'east': 1304, 'friends': 1667, 'unfollow': 4603, 'nugget': 3060, 'toss': 4470, 'curb': 1005, 'ear': 1296, 'breath': 528, 'attitude': 229, 'broski': 565, 'hook': 2009, 'homeless': 1993, 'bubble': 585, 'dumber': 1277, 'minute': 2809, 'trunk': 4527, 'fasho': 1480, 'lmfaooooo': 2577, 'freshman': 1659, 'coat': 838, 'warm': 4745, 'flappy': 1575, 'wagggggie': 4725, 'skill': 3937, 'abstractlife': 9, 'alex': 88, 'kaep': 2331, 'spot': 4091, 'hank': 1889, 'attempt': 226, 'stone': 4158, 'awkward': 255, 'awesome': 252, 'ion': 2172, 'dee': 1079, 'amandabynes': 114, 'own': 3159, 'thong': 4401, 'anthonycumia': 151, 'fail': 1453, 'arianagrande': 185, 'alcohol': 85, 'raise': 3494, 'mud': 2894, 'shark': 3858, 'bikini': 406, 'ashton': 202, 'bahaha': 289, 'anaconda': 128, 'none': 3032, 'goal': 1772, 'hun': 2055, 'ayyyethatschubb': 268, 'smdh': 3975, 'victor': 4686, 'dance': 1037, 'technically': 4322, 'barryclerjuste': 322, 'boston': 493, 'basedchasen': 327, 'chad': 715, 'jordan': 2299, 'zebra': 4987, 'print': 3406, 'sheet': 3863, 'irrelevant': 2179, 'store': 4162, 'foreal': 1627, 'boosie': 479, 'rape': 3507, 'recognize': 3549, 'original': 3140, 'version': 4673, 'jose': 2300, 'ily': 2108, 'cramp': 950, 'difference': 1145, 'vsamone': 4720, 'church': 790, 'absolutely': 8, 'police': 3342, 'king': 2397, 'clit': 821, 'eva': 1391, 'rice': 3638, 'nervous': 2972, 'starve': 4121, 'africa': 52, 'banana': 306, 'plug': 3331, 'hole': 1983, 'desperate': 1125, 'keef': 2354, 'fill': 1541, 'breadtruckkbri': 523, 'burgerking': 607, 'fo': 1608, 'trynna': 4535, 'officially': 3089, 'neither': 2964, 'flight': 1589, 'tweak': 4553, 'messy': 2753, 'nb': 2944, 'tempt': 4337, 'wantin': 4742, 'tiny': 4439, 'derek': 1114, 'consider': 900, 'caymarieee': 696, 'whereyohussleat': 4814, 'mfs': 2764, 'shyt': 3904, 'boney': 471, 'chevy': 752, 'seriously': 3834, 'brandon': 518, 'motherfucking': 2873, 'waka': 4730, 'ctfu': 989, 'interest': 2160, 'slide': 3958, 'male': 2666, 'ciscoallday': 794, 'avoid': 245, 'support': 4236, 'heat': 1927, 'bandwagon': 308, 'rider': 3646, 'juicy': 2308, 'pant': 3174, 'grind': 1830, 'seem': 3813, 'corny': 926, 'available': 241, 'upload': 4624, 'ham': 1881, 'illegal': 2105, 'wana': 4740, 'liq': 2552, 'djzeeti': 1186, 'park': 3182, 'stick': 4146, 'brady': 510, 'slowly': 3967, 'weapon': 4771, 'goin': 1776, 'bare': 317, 'dnt': 1190, 'afraid': 51, 'commitment': 869, 'trade': 4484, 'negative': 2959, 'watching': 4759, 'wassup': 4754, 'deeiiggee': 1080, 'scratch': 3791, 'buddy': 590, 'normal': 3041, 'ad': 35, 'cleveland': 810, 'drmalvo': 1250, 'hidey': 1952, 'dusty': 1285, 'asf': 200, 'train': 4487, 'extra': 1430, 'reggie': 3570, 'jefdabest': 2246, 'lmfaoo': 2574, 'denna': 1107, 'dej': 1094, 'loaf': 2586, 'juice': 2307, 'edgarguillenjr': 1321, 'islamic': 2184, 'suspect': 4246, 'tool': 4465, 'whoop': 4828, 'private': 3409, 'killin': 2391, 'fabianmleal': 1439, 'opinion': 3126, 'huge': 2047, 'mental': 2740, 'dallas': 1030, 'freddiegibbs': 1652, 'fukkntyler': 1694, 'lightskin': 2536, 'mf': 2762, 'lmfaooo': 2575, 'ight': 2094, 'denial': 1106, 'wut': 4919, 'aux': 240, 'cord': 922, 'kellienehls': 2360, 'thekaosyatti': 4373, 'nigguh': 3006, 'lmfaooooooo': 2579, 'beyonce': 391, 'mermaid': 2747, 'obviously': 3078, 'dre': 1235, 'block': 444, 'glitteredinpink': 1764, 'treslyon': 4503, 'baltimore': 302, 'cavs': 694, 'offend': 3082, 'fml': 1607, 'homecoming': 1991, 'golden': 1778, 'basically': 332, 'circle': 793, 'uglyassayekay': 4585, 'ego': 1332, 'highclasscapri': 1954, 'definitely': 1090, 'hurry': 2063, 'mother': 2870, 'cole': 851, 'ooh': 3116, 'learn': 2490, 'spell': 4071, 'thirsty': 4399, 'snip': 4000, 'coo': 913, 'canadian': 649, 'hoser': 2025, 'adopt': 42, 'kit': 2405, 'kat': 2343, 'imtoblame': 2123, 'simplysoulful': 3917, 'jay': 2233, 'nut': 3065, 'ahh': 64, 'boutta': 501, 'common': 870, 'dave': 1053, 'sign': 3910, 'beany': 351, 'religion': 3585, 'zip': 4991, 'jaydillz': 2234, 'jergucci': 2256, 'gal': 1716, 'preach': 3387, 'thru': 4418, 'singing': 3922, 'juanndacut': 2305, 'lance': 2456, 'justkarahn': 2329, 'dummy': 1278, 'honey': 2002, 'pillow': 3285, 'confused': 895, 'majority': 2660, 'kattwilliams': 2345, 'alotta': 104, 'kaycimalynn': 2348, 'pro': 3411, 'kush': 2433, 'blunt': 454, 'brah': 512, 'wiz': 4875, 'howard': 2036, 'bosh': 490, 'ud': 4581, 'versace': 4666, 'clingy': 816, 'rodriguez': 3676, 'thought': 4408, 'brooklyn': 562, 'bound': 498, 'yung': 4984, 'jeezy': 2245, 'lmaoooo': 2569, 'nomo': 3029, 'ed': 1319, 'essay': 1386, 'een': 1326, 'disrespectful': 1176, 'term': 4345, 'leslieeeixta': 2515, 'mi': 2765, 'justdoitslow': 2323, 'figure': 1537, 'arm': 187, 'cuddle': 994, 'ahaha': 62, 'told': 4454, 'az': 269, 'purpose': 3460, 'marcus': 2682, 'fax': 1494, 'google': 1787, 'fold': 1614, 'autocorrect': 238, 'magssca': 2656, 'deserve': 1120, 'foul': 1638, 'starburst': 4116, 'wardrobe': 4744, 'mostly': 2868, 'legging': 2506, 'guilty': 1851, 'somethin': 4024, 'polo': 3349, 'reality': 3533, 'mikediggem': 2790, 'final': 1547, 'walkin': 4734, 'daily': 1028, 'mosoknowso': 2867, 'slim': 3960, 'waist': 4727, 'innocent': 2150, 'pot': 3373, 'gospel': 1793, 'amanda': 113, 'fizz': 1570, 'knew': 2413, 'disrespect': 1175, 'switch': 4259, 'hype': 2068, 'bread': 522, 'playoff': 3323, 'splash': 4083, 'onna': 3115, 'wednesday': 4779, 'daughter': 1052, 'activity': 31, 'pet': 3254, 'dare': 1041, 'jealousy': 2243, 'norapist': 3040, 'letter': 2519, 'monday': 2843, 'vehicle': 4660, 'uhhh': 4588, 'longer': 2605, 'spongebob': 4087, 'automatically': 239, 'troll': 4516, 'darkskin': 1046, 'plmpcess': 3328, 'fashion': 1479, 'urban': 4633, 'holla': 1985, 'nooooo': 3037, 'brothas': 566, 'survive': 4245, 'pony': 3351, 'bust': 615, 'iont': 2173, 'benefit': 377, 'gap': 1720, 'residinero': 3610, 'bruhhh': 574, 'driving': 1248, 'bark': 319, 'grandpa': 1814, 'express': 1426, 'rojustdgaf': 3677, 'nosey': 3046, 'gun': 1856, 'den': 1105, 'breed': 531, 'slam': 3946, 'poppin': 3359, 'rylannwilliams': 3732, 'ago': 58, 'bun': 603, 'jam': 2217, 'bitchin': 421, 'shawty': 3861, 'khalilreed': 2378, 'aknadnrye': 78, 'textin': 4355, 'accidentally': 18, 'lolz': 2601, 'sexualgif': 3845, 'milk': 2798, 'kobebryant': 2427, 'wifey': 4839, 'constant': 902, 'fear': 1499, 'sooooo': 4036, 'destroy': 1128, 'gim': 1752, 'award': 248, 'sam': 3746, 'southsidevic': 4053, 'freaky': 1651, 'almost': 100, 'fckn': 1498, 'stevestfler': 4141, 'whiny': 4820, 'jealous': 2242, 'subtweet': 4203, 'braid': 513, 'havin': 1912, 'sittin': 3932, 'feb': 1503, 'felt': 1516, 'town': 4481, 'westsideflee': 4800, 'cali': 633, 'taecocky': 4270, 'crash': 953, 'tedofficialpage': 4326, 'shopping': 3885, 'practice': 3382, 'snow': 4003, 'typical': 4577, 'costume': 930, 'nurse': 3064, 'bunny': 605, 'officer': 3087, 'ice': 2075, 'yas': 4937, 'clothing': 827, 'adam': 36, 'jones': 2297, 'lead': 2483, 'savanigga': 3764, 'lover': 2626, 'fell': 1512, 'draw': 1232, 'clothes': 826, 'knee': 2412, 'miami': 2767, 'brain': 514, 'tryhardsilva': 4531, 'weezy': 4786, 'verse': 4670, 'diamond': 1136, 'goofy': 1786, 'viridoesitt': 4702, 'community': 871, 'hoop': 2011, 'boring': 486, 'thanksgiving': 4365, 'turkey': 4544, 'vivalaquintaa': 4708, 'crush': 981, 'jennifer': 2252, 'weight': 4787, 'jerk': 2257, 'whattheffacts': 4809, 'interview': 2165, 'worldstarfunny': 4897, 'ilovebamf': 2107, 'anyways': 161, 'gas': 1724, 'speak': 4063, 'shittin': 3877, 'hos': 2024, 'cotton': 931, 'picker': 3272, 'ignore': 2098, 'iz': 2200, 'blank': 432, 'awwww': 258, 'thottie': 4405, 'giggle': 1751, 'vegetable': 4659, 'potato': 3374, 'stunt': 4195, 'purge': 3458, 'hunt': 2059, 'classic': 804, 'drinker': 1242, 'trippin': 4514, 'clock': 822, 'hour': 2032, 'count': 936, 'wreck': 4910, 'rant': 3505, 'azz': 271, 'boi': 465, 'ayeee': 263, 'throat': 4415, 'bri': 540, 'bitty': 425, 'charge': 729, 'turnt': 4547, 'jigg': 2271, 'vic': 4681, 'peep': 3231, 'square': 4099, 'backwards': 279, 'fb': 1495, 'nicer': 2991, 'ahhh': 65, 'excited': 1414, 'valentine': 4647, 'allstar': 98, 'boa': 458, 'trippen': 4513, 'brave': 519, 'wonderful': 4884, 'surprise': 4242, 'diss': 1178, 'niglet': 3009, 'greg': 1825, 'hatin': 1907, 'slip': 3961, 'basketball': 334, 'scrappy': 3790, 'reunion': 3629, 'aight': 69, 'whattheflocka': 4810, 'morbidmermaid': 2858, 'bbluedreamm': 343, 'pouyalilpou': 3377, 'depressed': 1113, 'atl': 221, 'turnup': 4549, 'females': 1519, 'bonnoxxx': 472, 'level': 2522, 'lem': 2509, 'gross': 1832, 'texts': 4357, 'movement': 2884, 'dumbass': 1276, 'sarcastic': 3756, 'chrisbrown': 780, 'secret': 3808, 'puff': 3447, 'paint': 3168, 'brush': 577, 'trigger': 4509, 'table': 4264, 'manner': 2675, 'sloppy': 3965, 'daijahshardaee': 1027, 'whoever': 4826, 'dominiloka': 1207, 'appreciate': 174, 'age': 56, 'drphildontehue': 1254, 'idgaf': 2083, 'stair': 4108, 'eternalhbic': 1389, 'fabbymichelle': 1438, 'headphone': 1918, 'brian': 541, 'jigga': 2272, 'fav': 1487, 'purse': 3461, 'tx': 4570, 'digit': 1148, 'uniform': 4608, 'epic': 1373, 'organization': 3138, 'mj': 2821, 'smooth': 3987, 'criminal': 969, 'matter': 2704, 'divorce': 1182, 'cocky': 842, 'ref': 3560, 'twitpic': 4567, 'selfie': 3815, 'proven': 3439, 'shock': 3881, 'receive': 3546, 'album': 83, 'partner': 3187, 'crime': 968, 'solo': 4018, 'iamkrause': 2072, 'homo': 1998, 'lift': 2534, 'breakfast': 525, 'doc': 1192, 'anywhere': 162, 'bit': 418, 'statement': 4124, 'strap': 4168, 'muhfuckas': 2897, 'wind': 4851, 'talm': 4284, 'spread': 4093, 'offense': 3083, 'sub': 4201, 'joytooawesome': 2303, 'justinbieber': 2328, 'bow': 502, 'keanabermudez': 2353, 'blast': 434, 'boot': 480, 'girls': 1758, 'rico': 3643, 'hollywood': 1987, 'nicki': 2993, 'minaj': 2804, 'comfortable': 863, 'gut': 1860, 'emojis': 1356, 'pas': 3189, 'nooo': 3035, 'hill': 1957, 'book': 476, 'twin': 4563, 'ie': 2088, 'glass': 1763, 'irritate': 2181, 'lilduval': 2541, 'lilthickgawdess': 2542, 'slept': 3955, 'puke': 3449, 'respond': 3615, 'master': 2697, 'value': 4648, 'youre': 4976, 'greet': 1824, 'miilkkk': 2788, 'literally': 2557, 'wrestler': 4911, 'wen': 4793, 'wifed': 4838, 'hardly': 1898, 'harry': 1900, 'tbh': 4306, 'surprised': 4243, 'obamacare': 3075, 'website': 4777, 'boon': 478, 'dryer': 1262, 'nvm': 3069, 'tat': 4297, 'group': 1834, 'undercover': 4599, 'rihanna': 3651, 'wig': 4842, 'closet': 824, 'waymoflydenu': 4765, 'fleek': 1584, 'hug': 2046, 'shine': 3870, 'felony': 1515, 'bathroom': 339, 'receipt': 3545, 'herd': 1942, 'association': 215, 'sorryimalex': 4040, 'souljaboy': 4045, 'kmichelle': 2411, 'dumpster': 1280, 'michelle': 2770, 'fruit': 1674, 'farm': 1477, 'system': 4262, 'meal': 2717, 'handsome': 1886, 'tend': 4339, 'key': 2371, 'anytime': 159, 'netflix': 2975, 'chuck': 786, 'fest': 1527, 'stage': 4106, 'unfollowed': 4604, 'atleast': 223, 'pizza': 3305, 'karl': 2338, 'hahahah': 1871, 'mommy': 2842, 'trouble': 4521, 'honest': 2000, 'salty': 3744, 'bill': 407, 'verseunanswered': 4671, 'frozen': 1673, 'vivaalakatyy': 4707, 'accident': 17, 'crap': 952, 'tax': 4300, 'jew': 2267, 'lawyer': 2478, 'doctor': 1193, 'coast': 837, 'bone': 469, 'benz': 380, 'stress': 4174, 'zooyorkinit': 4998, 'guilt': 1850, 'nike': 3011, 'mic': 2768, 'safe': 3736, 'coffee': 847, 'humor': 2054, 'massage': 2695, 'rat': 3512, 'spa': 4055, 'grand': 1811, 'defiantly': 1089, 'fw': 1708, 'fuccin': 1680, 'traffic': 4485, 'understood': 4601, 'fucken': 1684, 'spray': 4092, 'jean': 2244, 'uggs': 4582, 'timbs': 4435, 'walmart': 4738, 'ron': 3685, 'religious': 3586, 'social': 4008, 'aside': 205, 'mee': 2725, 'soo': 4032, 'august': 235, 'alsina': 108, 'ecstasy': 1318, 'stressful': 4175, 'defense': 1088, 'entertain': 1371, 'friendly': 1666, 'swag': 4248, 'killa': 2388, 'bein': 367, 'mentality': 2741, 'ina': 2125, 'cherry': 750, 'vet': 4674, 'sooo': 4034, 'proof': 3428, 'lesson': 2517, 'cost': 929, 'hmu': 1972, 'jack': 2201, 'ninja': 3016, 'turtle': 4550, 'leo': 2511, 'makeup': 2663, 'mission': 2814, 'std': 4129, 'owe': 3158, 'loyalty': 2632, 'grammar': 1810, 'santa': 3753, 'boo': 473, 'responsibility': 3617, 'bike': 405, 'profile': 3419, 'struggle': 4185, 'doin': 1200, 'mann': 2674, 'asses': 211, 'blood': 449, 'charger': 730, 'chip': 768, 'limit': 2544, 'inbox': 2126, 'cryin': 987, 'stressin': 4176, 'askin': 207, 'ridin': 3647, 'steady': 4130, 'lovin': 2627, 'ayeeee': 264, 'gossip': 1794, 'attractive': 232, 'drip': 1244, 'central': 711, 'add': 37, 'grab': 1805, 'trey': 4506, 'hangin': 1888, 'mid': 2777, 'runnin': 3724, 'ko': 2425, 'success': 4208, 'pen': 3233, 'ronnie': 3687, 'jackson': 2206, 'thirst': 4398, 'wifi': 4841, 'happiness': 1891, 'messin': 2752, 'tall': 4282, 'touchdown': 4474, 'watchin': 4758, 'kick': 2381, 'form': 1633, 'privilege': 3410, 'attack': 225, 'scene': 3781, 'parent': 3180, 'instagram': 2155, 'title': 4445, 'yaself': 4938, 'drown': 1253, 'swim': 4257, 'message': 2750, 'provide': 3440, 'sticker': 4147, 'member': 2734, 'china': 765, 'pin': 3289, 'conservative': 899, 'krislisisms': 2432, 'naezus': 2920, 'earl': 1297, 'cage': 630, 'scroll': 3797, 'james': 2220, 'search': 3802, 'skip': 3940, 'idoclyfe': 2087, 'retire': 3623, 'afterwards': 54, 'olive': 3105, 'karate': 2336, 'argument': 183, 'era': 1378, 'wus': 4917, 'touch': 4473, 'squak': 4098, 'budden': 589, 'badge': 285, 'humbltonbanks': 2053, 'ankle': 140, 'sock': 4010, 'general': 1736, 'gift': 1750, 'soundcloud': 4047, 'tumblr': 4539, 'darkness': 1045, 'flavor': 1579, 'baller': 297, 'begin': 365, 'kentucky': 2365, 'amber': 118, 'worthless': 4903, 'indeed': 2135, 'camel': 641, 'buck': 586, 'deliver': 1097, 'wah': 4726, 'adult': 44, 'effect': 1327, 'offensive': 3084, 'bait': 291, 'punk': 3455, 'speaking': 4065, 'election': 1339, 'stylish': 4200, 'human': 2050, 'qaeda': 3468, 'market': 2686, 'faster': 1482, 'stock': 4153, 'however': 2037, 'putin': 3466, 'completely': 878, 'country': 937, 'pac': 3162, 'lonely': 2602, 'cross': 976, 'arrive': 192, 'load': 2585, 'meaning': 2719, 'mango': 2672, 'christmas': 783, 'mile': 2793, 'philly': 3262, 'dc': 1061, 'ceeross': 703, 'mil': 2792, 'dez': 1132, 'oz': 3161, 'arizona': 186, 'blocked': 445, 'nobeeetch': 3022, 'ferguson': 1525, 'egg': 1329, 'prison': 3408, 'pollo': 3348, 'tower': 4480, 'btown': 582, 'skull': 3943, 'email': 1351, 'address': 39, 'guard': 1846, 'skank': 3936, 'wid': 4834, 'understand': 4600, 'michigan': 2773, 'dey': 1131, 'outchea': 3150, 'heel': 1931, 'smellin': 3977, 'increase': 2133, 'moke': 2835, 'snitch': 4001, 'awake': 247, 'yay': 4944, 'hopefully': 2017, 'wheel': 4812, 'fugly': 1691, 'prude': 3441, 'match': 2699, 'relate': 3578, 'leak': 2487, 'generation': 1737, 'specie': 4068, 'area': 180, 'percent': 3243, 'truly': 4526, 'awful': 253, 'sea': 3800, 'discuss': 1166, 'delicious': 1096, 'busboysandpoets': 612, 'filthy': 1545, 'kylegotjokes': 2437, 'gorgeous': 1791, 'cheating': 741, 'clear': 808, 'choice': 774, 'crusty': 983, 'hire': 1964, 'bryan': 578, 'starbucks': 4115, 'huntermoore': 2061, 'bowl': 503, 'graham': 1808, 'unit': 4612, 'fucktyler': 1690, 'humanity': 2051, 'stain': 4107, 'impression': 2122, 'blessing': 438, 'ground': 1833, 'beast': 354, 'fuc': 1677, 'republican': 3604, 'foolish': 1622, 'laff': 2449, 'arrogant': 193, 'belt': 373, 'praise': 3383, 'convince': 911, 'less': 2516, 'emotional': 1358, 'sissy': 3928, 'tan': 4288, 'doll': 1201, 'somewhere': 4027, 'moneydriven': 2845, 'kickin': 2382, 'showin': 3897, 'earlier': 1298, 'rhyme': 3636, 'gag': 1713, 'amendment': 120, 'slave': 3951, 'anchor': 130, 'gaga': 1714, 'huhwhatsacondom': 2049, 'scarf': 3779, 'phil': 3261, 'bug': 591, 'blanket': 433, 'sweat': 4251, 'clam': 800, 'comedy': 862, 'themayormatt': 4374, 'shiner': 3871, 'adolfhibsta': 41, 'names': 2927, 'nigglet': 3005, 'fro': 1670, 'rube': 3713, 'cell': 707, 'internet': 2164, 'peter': 3256, 'capodaasshole': 662, 'income': 2131, 'rob': 3667, 'caption': 665, 'protest': 3436, 'pig': 3282, 'island': 2185, 'background': 276, 'doesnt': 1197, 'skirt': 3941, 'pan': 3172, 'ampowerblog': 127, 'whining': 4819, 'lyric': 2645, 'dismiss': 1174, 'mood': 2852, 'disgust': 1170, 'smd': 3974, 'credit': 963, 'perfectly': 3245, 'guitar': 1853, 'peckerwood': 3226, 'highly': 1955, 'elementary': 1341, 'among': 123, 'livin': 2562, 'invite': 2169, 'luck': 2635, 'join': 2293, 'army': 189, 'jungle': 2316, 'note': 3048, 'welcome': 4789, 'accord': 19, 'jeff': 2247, 'forreal': 1635, 'atblackface': 218, 'mrmooncricket': 2889, 'uncleunco': 4598, 'bobbybotsods': 463, 'fuckthemallcops': 1688, 'gene': 1735, 'schedule': 3782, 'butthurt': 620, 'johnny': 2290, 'omm': 3111, 'suffer': 4218, 'living': 2563, 'moan': 2828, 'yelling': 4953, 'cdfu': 701, 'throb': 4416, 'sucker': 4212, 'vice': 4682, 'dats': 1051, 'almighty': 99, 'shes': 3865, 'shame': 3855, 'thou': 4406, 'mia': 2766, 'belong': 372, 'omfg': 3108, 'winner': 4857, 'taliban': 4277, 'rug': 3717, 'legal': 2503, 'dear': 1069, 'mail': 2657, 'pile': 3283, 'salon': 3741, 'harder': 1897, 'comeback': 861, 'jet': 2264, 'pointless': 3338, 'mick': 2774, 'foley': 1615, 'morph': 2865, 'playa': 3319, 'jessecanon': 2260, 'bidenshairplugs': 398, 'victory': 4688, 'disgrace': 1168, 'bomb': 468, 'billperiman': 409, 'muzzies': 2914, 'slay': 3953, 'poop': 3355, 'fawking': 1493, 'copy': 921, 'suckin': 4213, 'ofay': 3081, 'campaign': 645, 'beg': 364, 'service': 3836, 'irish': 2178, 'regret': 3572, 'trailer': 4486, 'fry': 1675, 'steak': 4131, 'mash': 2692, 'corn': 924, 'rollin': 3680, 'crew': 966, 'cd': 700, 'bump': 601, 'banger': 310, 'busy': 616, 'lately': 2466, 'brazil': 520, 'tour': 4477, 'bloggerboxing': 447, 'jacob': 2208, 'greedy': 1822, 'broner': 559, 'status': 4126, 'lololol': 2600, 'inbred': 2127, 'shop': 3884, 'pearl': 3224, 'current': 1010, 'acid': 24, 'ignorant': 2097, 'brandnewandrew': 517, 'rooster': 3692, 'degree': 1093, 'couch': 932, 'sight': 3909, 'describe': 1117, 'fault': 1486, 'citizen': 795, 'breesindacut': 532, 'realize': 3534, 'brendagisselca': 537, 'comin': 864, 'bretvondehl': 539, 'tap': 4291, 'niet': 2996, 'meer': 2727, 'moet': 2833, 'briscoefunnyguy': 550, 'hipster': 1963, 'center': 710, 'farewell': 1475, 'fob': 1610, 'supporter': 4237, 'spoil': 4085, 'nog': 3025, 'kike': 2386, 'sand': 3750, 'ultimate': 4590, 'hall': 1878, 'fame': 1464, 'tampa': 4286, 'logic': 2594, 'info': 2143, 'hooker': 2010, 'thursday': 4424, 'cap': 661, 'career': 671, 'ballot': 301, 'roast': 3666, 'cheek': 744, 'sore': 4038, 'crisis': 971, 'cbsthismorning': 697, 'norahodonnell': 3039, 'charlierose': 735, 'engage': 1365, 'nowhere': 3054, 'harden': 1896, 'spur': 4095, 'cheefpolo': 743, 'terrify': 4347, 'mfa': 2763, 'dime': 1151, 'waddup': 4722, 'mouf': 2879, 'log': 2593, 'wussup': 4918, 'bs': 580, 'umm': 4592, 'eyebrow': 1434, 'elissa': 1346, 'leprechaun': 2513, 'beyonc': 390, 'stubborn': 4186, 'maar': 2647, 'er': 1377, 'tough': 4475, 'african': 53, 'lebron': 2496, 'plan': 3309, 'subtweets': 4205, 'reply': 3599, 'defend': 1086, 'hotel': 2030, 'steezeyflow': 4135, 'charlesbwaffle': 733, 'revkahjc': 3633, 'cantucimblonde': 660, 'kacado': 2330, 'government': 1801, 'desert': 1119, 'barack': 314, 'greyyygoose': 1827, 'hypocrite': 2070, 'vegeta': 4658, 'snack': 3988, 'chickencoleman': 757, 'td': 4309, 'chiefkeef': 759, 'fuzzy': 1707, 'chink': 767, 'goat': 1773, 'snd': 3994, 'vampire': 4649, 'motherfuckin': 2872, 'math': 2702, 'pee': 3229, 'pathetic': 3197, 'btw': 583, 'fwm': 1709, 'mikey': 2791, 'nascar': 2930, 'diego': 1143, 'ooo': 3119, 'moose': 2856, 'breh': 535, 'byeeeee': 624, 'stole': 4155, 'complexmag': 879, 'league': 2486, 'apparently': 169, 'fever': 1528, 'talker': 4279, 'elchavaloko': 1337, 'saucygyro': 3761, 'threat': 4411, 'kitten': 2407, 'plot': 3329, 'twist': 4565, 'style': 4199, 'lake': 2450, 'daniel': 1039, 'got': 1796, 'poll': 3347, 'jewjitsugrl': 2269, 'definition': 1091, 'willing': 4848, 'datboyrayt': 1049, 'awe': 251, 'eh': 1333, 'hahah': 1869, 'especially': 1384, 'papoose': 3178, 'plano': 3313, 'pleased': 3325, 'lupefiasco': 2639, 'chicago': 754, 'idiot': 2084, 'deeznutsdoe': 1083, 'defendwallst': 1087, 'alike': 91, 'knw': 2424, 'derekisnormal': 1115, 'yoga': 4964, 'company': 872, 'destrothenoble': 1127, 'nekolin': 2966, 'pink': 3292, 'naturally': 2938, 'hunger': 2057, 'downstairs': 1222, 'dirrttyydan': 1158, 'merry': 2748, 'speech': 4069, 'dizzybala': 1183, 'sellout': 3821, 'clan': 801, 'gots': 1798, 'legendary': 2505, 'pleasure': 3326, 'language': 2459, 'dana': 1036, 'lb': 2481, 'arsenal': 194, 'shid': 3867, 'cuff': 995, 'apology': 167, 'fee': 1506, 'gullible': 1854, 'drfreezeburnn': 1239, 'topic': 4467, 'yasssss': 4942, 'unknown': 4615, 'whats': 4807, 'rag': 3491, 'eatmytweetzz': 1312, 'verizon': 4663, 'elite': 1347, 'can': 647, 'personal': 3252, 'location': 2590, 'lizard': 2564, 'op': 3121, 'ericwithahotdad': 1380, 'freedom': 1654, 'wearin': 4773, 'armor': 188, 'border': 484, 'jumper': 2314, 'sauce': 3760, 'overrate': 3156, 'everybodyhatesx': 1398, 'fried': 1664, 'feather': 1501, 'english': 1367, 'tackle': 4266, 'accurate': 21, 'hav': 1909, 'superior': 4234, 'femshaveballz': 1522, 'witness': 4873, 'terrorism': 4348, 'commit': 868, 'crook': 975, 'fenkellpayroll': 1523, 'ben': 374, 'voor': 4717, 'khan': 2379, 'fightsonvine': 1536, 'chanelisabeth': 723, 'mutt': 2912, 'running': 3725, 'pom': 3350, 'flyoutchase': 1606, 'francoiskilljoy': 1645, 'frankiejgrande': 1647, 'ew': 1406, 'eddie': 1320, 'wnba': 4878, 'negros': 2961, 'mook': 2853, 'fucktravonn': 1689, 'knowledge': 2422, 'progress': 3421, 'nun': 3063, 'samzbikowski': 3748, 'flood': 1595, 'target': 4293, 'rpopbox': 3707, 'prime': 3404, 'gabby': 1712, 'drizzy': 1249, 'breezy': 533, 'latino': 2470, 'jewish': 2268, 'neighborhood': 2963, 'wipe': 4861, 'sharkeisha': 3859, 'sneaky': 3997, 'gingerdemoness': 1754, 'nite': 3021, 'sho': 3880, 'nahh': 2923, 'bacon': 280, 'crust': 982, 'grant': 1816, 'pray': 3384, 'dye': 1291, 'sandwich': 3752, 'gossipcop': 1795, 'blk': 443, 'bey': 389, 'screw': 3795, 'borrow': 488, 'moon': 2854, 'grizzboadams': 1831, 'wyattnuckels': 4920, 'fart': 1478, 'yoself': 4969, 'og': 3092, 'standard': 4112, 'meeting': 2729, 'bij': 404, 'foam': 1609, 'multiple': 2899, 'rare': 3510, 'microwave': 2776, 'taylorcaniff': 4304, 'reid': 3575, 'retirement': 3624, 'muzzie': 2913, 'interesting': 2162, 'het': 1945, 'lazy': 2480, 'ook': 3117, 'heauxmersimpson': 1928, 'heilsidious': 1933, 'meh': 2730, 'imo': 2118, 'clue': 832, 'flow': 1600, 'pokemon': 3340, 'rocket': 3673, 'unfollowing': 4605, 'dammit': 1033, 'reach': 3524, 'crist': 972, 'toilet': 4453, 'american': 122, 'ship': 3873, 'motion': 2875, 'elephant': 1342, 'hmmm': 1971, 'mix': 2818, 'iggyazalea': 2093, 'acknowledge': 25, 'bootyacid': 483, 'bio': 413, 'lemon': 2510, 'feminist': 1521, 'nazi': 2943, 'hah': 1867, 'inch': 2128, 'channel': 725, 'although': 110, 'concede': 883, 'dwight': 1289, 'expensive': 1420, 'wedding': 4778, 'wallet': 4737, 'filth': 1544, 'afford': 50, 'louis': 2623, 'ck': 798, 'joey': 2287, 'brad': 509, 'hawk': 1913, 'jar': 2228, 'incident': 2129, 'san': 3749, 'amount': 125, 'justcurrieon': 2322, 'itsmander': 2193, 'dink': 1153, 'thatslutadrian': 4368, 'eliminate': 1345, 'better': 388, 'xdsmooth': 4923, 'jayreidofficial': 2236, 'jbilinovich': 2239, 'alcoholic': 86, 'jmuggaaa': 2283, 'anti': 152, 'function': 1698, 'hustle': 2066, 'thatangrynigga': 4366, 'nearly': 2951, 'rivera': 3661, 'core': 923, 'york': 4968, 'wizard': 4876, 'mullet': 2898, 'katy': 2346, 'cocksucker': 841, 'jacobbbacker': 2209, 'tyler': 4574, 'article': 196, 'pressure': 3395, 'jamesokeefeiii': 2221, 'illiterate': 2106, 'moron': 2864, 'energy': 1364, 'maker': 2662, 'nephew': 2968, 'dan': 1035, 'pair': 3169, 'jawshoeeahhh': 2231, 'spy': 4096, 'lolol': 2599, 'jenny': 2255, 'rarely': 3511, 'height': 1932, 'traitor': 4490, 'jimnorton': 2279, 'jim': 2276, 'tech': 4321, 'judge': 2306, 'pastor': 3194, 'allah': 93, 'po': 3335, 'benghazi': 379, 'victim': 4685, 'swallow': 4249, 'nyc': 3071, 'yokel': 4965, 'bama': 304, 'sensitive': 3828, 'zoom': 4997, 'option': 3131, 'carter': 678, 'gm': 1770, 'besides': 382, 'jameis': 2219, 'aware': 249, 'dodger': 1195, 'national': 2935, 'dread': 1236, 'kik': 2385, 'prepare': 3391, 'jundishes': 2315, 'southern': 4052, 'mute': 2911, 'vile': 4692, 'memphis': 2737, 'wine': 4854, 'nappy': 2929, 'nowadays': 3053, 'knicks': 2414, 'killquana': 2392, 'klsouth': 2410, 'surgery': 4241, 'cheer': 746, 'click': 812, 'mornin': 2861, 'keitholbermann': 2357, 'bigotry': 402, 'racism': 3487, 'witout': 4874, 'kensuttling': 2364, 'reside': 3609, 'frank': 1646, 'upton': 4631, 'paper': 3177, 'ohh': 3095, 'apply': 172, 'thunder': 4423, 'bummy': 600, 'floyd': 1602, 'kevinthegee': 2370, 'toughen': 4476, 'kingjames': 2400, 'allen': 94, 'bail': 290, 'pinto': 3293, 'koolqueef': 2430, 'angel': 134, 'transformer': 4493, 'pole': 3341, 'puppy': 3456, 'saiyan': 3738, 'volunteer': 4713, 'guinea': 1852, 'kxrxsxb': 2436, 'scare': 3777, 'ladyvodkax': 2448, 'stomp': 4157, 'extreme': 1431, 'condition': 888, 'prettykells': 3398, 'burger': 606, 'waffle': 4723, 'welfare': 4790, 'flatter': 1578, 'dsaend': 1263, 'lifeasking': 2532, 'pity': 3304, 'bush': 613, 'hearing': 1923, 'dramatic': 1231, 'liltunechi': 2543, 'rosaalbae': 3695, 'travel': 4497, 'liveitupjersey': 2561, 'psycho': 3442, 'mediacrooks': 2722, 'terrorist': 4349, 'delusional': 1098, 'bay': 342, 'parker': 3183, 'louievree': 2622, 'tampon': 4287, 'crayon': 956, 'hostess': 2028, 'mob': 2829, 'unicorncowboy': 4607, 'uk': 4589, 'lmaooooo': 2570, 'whatsoever': 4808, 'wing': 4855, 'exotic': 1418, 'security': 3809, 'battle': 341, 'code': 845, 'wojtata': 4880, 'coconut': 843, 'oil': 3098, 'grey': 1826, 'icy': 2077, 'fifa': 1532, 'matt': 2703, 'zombie': 4994, 'paybacks': 3211, 'goth': 1797, 'critical': 973, 'glove': 1768, 'crystal': 988, 'softestmuffin': 4013, 'torahblaze': 4469, 'cure': 1006, 'fewjr': 1529, 'canada': 648, 'dj': 1184, 'stranger': 4167, 'danger': 1038, 'jump': 2313, 'cheesy': 749, 'weet': 4785, 'per': 3242, 'stupidity': 4198, 'depress': 1112, 'thousand': 4410, 'priority': 3407, 'grass': 1818, 'septic': 3831, 'ayyy': 267, 'interested': 2161, 'harass': 1893, 'wouldnt': 4906, 'payin': 3212, 'bastard': 336, 'hitler': 1968, 'meth': 2756, 'michhelleashley': 2772, 'barely': 318, 'stalk': 4109, 'griffin': 1828, 'twinkie': 4564, 'flesh': 1585, 'riff': 3648, 'reserve': 3608, 'present': 3392, 'screamin': 3793, 'sup': 4231, 'tiger': 4429, 'regulation': 3574, 'spike': 4077, 'regardless': 3569, 'imagine': 2113, 'kayysavage': 2350, 'fuccing': 1681, 'seattle': 3805, 'vs': 4719, 'elect': 1338, 'terrible': 4346, 'motherofbraylon': 2874, 'trannies': 4491, 'dealer': 1067, 'nature': 2939, 'mrpoonsoaker': 2890, 'bake': 292, 'tipsy': 4441, 'relevant': 3583, 'equal': 1375, 'opportunity': 3127, 'trophy': 4519, 'freeze': 1656, 'random': 3499, 'notch': 3047, 'nyrkelsmads': 3073, 'eats': 1313, 'wire': 4862, 'patty': 3205, 'drippin': 1245, 'gta': 1839, 'permission': 3249, 'episode': 1374, 'piersmorgan': 3281, 'waive': 4729, 'kelly': 2361, 'upset': 4629, 'comparison': 874, 'pt': 3443, 'jdickerson': 2240, 'apologize': 166, 'sin': 3918, 'facetime': 1443, 'nyjusdntgaf': 3072, 'tellin': 4333, 'duck': 1265, 'duckydynamo': 1266, 'noodle': 3034, 'smelly': 3978, 'flip': 1590, 'wendydavistexas': 4795, 'stockboy': 4154, 'oskzilla': 3144, 'shadow': 3850, 'pool': 3353, 'fed': 1505, 'govt': 1803, 'whose': 4830, 'aim': 70, 'split': 4084, 'proseish': 3434, 'george': 1741, 'pacdagoat': 3163, 'gorilla': 1792, 'pancake': 3173, 'deport': 1111, 'pennythegoat': 3238, 'mets': 2758, 'favor': 1489, 'nashville': 2931, 'prefer': 3389, 'suggestion': 4221, 'arabic': 179, 'giraffe': 1755, 'regard': 3568, 'vick': 4683, 'flaw': 1580, 'sa': 3733, 'msnbc': 2891, 'prophzilla': 3432, 'quickly': 3479, 'quad': 3470, 'pm': 3334, 'curly': 1009, 'somehow': 4022, 'strawberry': 4169, 'hispanic': 1965, 'juss': 2321, 'laughin': 2473, 'lying': 2644, 'element': 1340, 'en': 1361, 'nawl': 2942, 'dolo': 1204, 'midget': 2780, 'lml': 2581, 'realniggasherm': 3536, 'realskipbayless': 3537, 'constantly': 903, 'qb': 3469, 'talkn': 4281, 'pc': 3215, 'society': 4009, 'realwalliewall': 3539, 'fellow': 1514, 'camp': 644, 'spring': 4094, 'reaction': 3526, 'pecker': 3225, 'lit': 2556, 'des': 1116, 'moma': 2838, 'rickiroma': 3641, 'tone': 4459, 'drag': 1226, 'recycle': 3554, 'bin': 411, 'raider': 3492, 'fancy': 1471, 'rihannahasaids': 3652, 'ye': 4945, 'nra': 3057, 'horny': 2019, 'fist': 1563, 'garbage': 1721, 'obvious': 3077, 'rubyfakhoury': 3714, 'enemy': 1363, 'bruise': 575, 'suggest': 4220, 'concert': 886, 'dice': 1139, 'rig': 3649, 'vacation': 4645, 'plane': 3310, 'return': 3625, 'notice': 3051, 'martin': 2690, 'shift': 3868, 'careful': 672, 'skit': 3942, 'bee': 361, 'rting': 3709, 'schulzgrayson': 3785, 'phase': 3259, 'constitution': 904, 'tedcruz': 4324, 'lls': 2565, 'saudi': 3762, 'arabia': 178, 'confront': 893, 'trill': 4510, 'guarantee': 1845, 'photoshop': 3267, 'disgraceful': 1169, 'christian': 782, 'unlike': 4617, 'scum': 3798, 'threaten': 4412, 'birth': 416, 'alien': 90, 'israel': 2187, 'hypocrisy': 2069, 'slant': 3949, 'stuck': 4187, 'artist': 197, 'situation': 3933, 'texted': 4354, 'golf': 1780, 'stevestockmantx': 4142, 'propose': 3433, 'brilliant': 548, 'pack': 3165, 'friggin': 1668, 'education': 1325, 'knob': 2418, 'ted': 4323, 'gum': 1855, 'havent': 1911, 'stonisnipezz': 4160, 'tweeting': 4557, 'stunningstina': 4194, 'camera': 642, 'ignorance': 2096, 'due': 1270, 'explode': 1424, 'mickey': 2775, 'mouse': 2881, 'england': 1366, 'patriot': 3202, 'upgrade': 4623, 'kushdaddycorr': 2434, 'cease': 702, 'taylor': 4303, 'eating': 1311, 'resist': 3611, 'tastemygayness': 4295, 'vibing': 4680, 'tayscalf': 4305, 'paris': 3181, 'effort': 1328, 'label': 2440, 'eachother': 1293, 'moor': 2855, 'bronx': 560, 'badass': 282, 'nick': 2992, 'melo': 2732, 'mayweather': 2710, 'error': 1382, 'concern': 885, 'rebel': 3542, 'slippery': 3962, 'faith': 1456, 'economy': 1317, 'successful': 4209, 'steelers': 4134, 'dome': 1206, 'thenudesgod': 4376, 'memory': 2736, 'river': 3660, 'gtf': 1840, 'payback': 3210, 'popular': 3360, 'theseanyv': 4384, 'subtweeting': 4204, 'hashtag': 1903, 'gator': 1726, 'react': 3525, 'kkk': 2409, 'ashamed': 201, 'pls': 3330, 'yal': 4929, 'bench': 375, 'rescue': 3607, 'february': 1504, 'le': 2482, 'france': 1644, 'conference': 891, 'april': 177, 'gain': 1715, 'solid': 4017, 'jax': 2232, 'truenovacane': 4525, 'magic': 2654, 'westside': 4799, 'cj': 797, 'pickle': 3274, 'faggots': 1451, 'cont': 905, 'promote': 3426, 'film': 1542, 'olympics': 3107, 'audience': 233, 'roof': 3688, 'magical': 2655, 'native': 2936, 'destiny': 1126, 'mlk': 2823, 'disease': 1167, 'whatchu': 4805, 'tease': 4320, 'fella': 1513, 'insult': 2157, 'smokin': 3985, 'sun': 4227, 'recommend': 3550, 'mannn': 2677, 'peyton': 3258, 'smiley': 3982, 'andrew': 131, 'training': 4489, 'asleep': 208, 'nuh': 3061, 'yaremisxo': 4936, 'neymar': 2985, 'yeiiowbang': 4951, 'houston': 2035, 'wayne': 4767, 'row': 3704, 'guala': 1844, 'yourdudeferg': 4975, 'thoughtsofrandy': 4409, 'demon': 1103, 'talmbout': 4285, 'clip': 818, 'dy': 1290, 'zhugstubble': 4989, 'zitlalyl': 4992, 'attract': 231, 'oops': 3120, 'indian': 2137, 'stuffed': 4193, 'wyd': 4921, 'reg': 3567, 'aha': 61, 'brett': 538, 'morgan': 2860, 'influence': 2142, 'dro': 1251, 'ballin': 299, 'kanyewest': 2334, 'convo': 912, 'heartless': 1926, 'sc': 3770, 'elevator': 1343, 'jason': 2229, 'bleach': 436, 'hoodie': 2008, 'yolo': 4966, 'ashy': 203, 'masturbate': 2698, 'accent': 14, 'glow': 1769, 'correction': 928, 'five': 1568, 'acceptable': 16, 'jr': 2304, 'noise': 3027, 'massive': 2696, 'allsportsbruh': 97, 'veteran': 4675, 'manziel': 2680, 'joeylattime': 2288, 'politician': 3345, 'witchu': 4870, 'sarah': 3754, 'owner': 3160, 'foxx': 1642, 'scared': 3778, 'sbsylvester': 3769, 'kitty': 2408, 'bieber': 399, 'islam': 2183, 'chipotle': 769, 'baskgod': 335, 'clowney': 830, 'pirate': 3295, 'ginger': 1753, 'leopard': 2512, 'patience': 3198, 'positive': 3368, 'bigshaadswerver': 403, 'dunk': 1282, 'gemini': 1734, 'confirm': 892, 'agency': 57, 'itch': 2190, 'cub': 993, 'addict': 38, 'alabama': 80, 'forehead': 1628, 'donald': 1208, 'sterling': 4138, 'danny': 1040, 'stamp': 4110, 'board': 459, 'ayee': 262, 'uber': 4579, 'taxi': 4301, 'muscle': 2905, 'lanahudsonnn': 2455, 'bumblebee': 599, 'clutch': 833, 'whiney': 4818, 'prevent': 3399, 'jamaica': 2218, 'wh': 4803, 'homegirl': 1992, 'approve': 176, 'former': 1634, 'anime': 139, 'thumb': 4422, 'collegefession': 853, 'alert': 87, 'ann': 141, 'rot': 3700, 'curl': 1008, 'chest': 751, 'daisymcgarr': 1029, 'vomit': 4714, 'stare': 4117, 'davegetnmoney': 1054, 'capture': 666, 'whilst': 4816, 'fully': 1696, 'denytheprophecy': 1109, 'singer': 3921, 'discordianslip': 1164, 'grease': 1820, 'station': 4125, 'djfeds': 1185, 'result': 3620, 'uninvited': 4609, 'rockin': 3674, 'retweeting': 3627, 'drunksixthgrade': 1260, 'third': 4397, 'float': 1593, 'rent': 3595, 'lace': 2442, 'mint': 2808, 'clever': 811, 'erinscafe': 1381, 'jon': 2296, 'espn': 1385, 'helmet': 1939, 'nevermind': 2980, 'firemunky': 1559, 'mountain': 2880, 'belief': 368, 'wide': 4836, 'faget': 1449, 'gifs': 1749, 'teapot': 4318, 'whenever': 4813, 'insurance': 2158, 'guys': 1862, 'bully': 597, 'pudding': 3446, 'certain': 713, 'racial': 3486, 'abt': 10, 'shitpussiessay': 3876, 'theory': 4379, 'ayy': 266, 'ab': 1, 'heydenbunsyolo': 1947, 'dgaf': 1134, 'repeat': 3597, 'gram': 1809, 'floppy': 1598, 'plant': 3314, 'breezyfrmdablok': 534, 'refuse': 3566, 'foe': 1612, 'iiak': 2099, 'spin': 4078, 'betray': 386, 'unloyal': 4618, 'inthekcmix': 2166, 'pau': 3206, 'planet': 3311, 'iowahawkblog': 2174, 'jjauthor': 2281, 'active': 30, 'duty': 1287, 'jacksparenohoe': 2207, 'pepper': 3240, 'patch': 3196, 'catholic': 690, 'gangster': 1719, 'knoww': 2423, 'youth': 4978, 'lack': 2444, 'uhh': 4587, 'jemelehill': 2248, 'jennahnorberg': 2251, 'ehh': 1334, 'stereotype': 4137, 'university': 4614, 'requirement': 3606, 'jessica': 2261, 'jimachterfeld': 2277, 'creep': 964, 'recent': 3547, 'juicygenie': 2309, 'justezzzee': 2324, 'list': 2554, 'lmfaoooooooo': 2580, 'karlamorenoo': 2339, 'introduce': 2167, 'hip': 1960, 'perform': 3246, 'mirror': 2811, 'kayliefarmer': 2349, 'basis': 333, 'winter': 4860, 'cashier': 682, 'saturday': 3759, 'romney': 3683, 'nathanndevlin': 2933, 'born': 487, 'sunset': 4229, 'license': 2527, 'puttin': 3467, 'crowd': 978, 'honda': 1999, 'migos': 2786, 'mcdonalds': 2714, 'holder': 1982, 'scandalous': 3775, 'kris': 2431, 'pu': 3444, 'laceeybugg': 2443, 'trashy': 4496, 'parking': 3184, 'lettherainefall': 2520, 'longbongchris': 2604, 'disgusting': 1171, 'hiphop': 1961, 'steel': 4133, 'proper': 3430, 'finer': 1552, 'algebra': 89, 'bossy': 492, 'nuthin': 3066, 'chu': 784, 'ten': 4338, 'sort': 4041, 'mmm': 2824, 'cough': 933, 'abo': 5, 'goodbye': 1783, 'recently': 3548, 'whatupag': 4811, 'congratulation': 897, 'charles': 732, 'invisible': 2168, 'mommajjojo': 2841, 'quality': 3471, 'moyizzy': 2886, 'chik': 760, 'fil': 1538, 'mrfoolycooly': 2888, 'celestial': 706, 'blade': 429, 'mum': 2900, 'discover': 1165, 'jackass': 2202, 'monster': 2849, 'sue': 4217, 'wes': 4797, 'hw': 2067, 'peaceful': 3219, 'impossible': 2120, 'mill': 2800, 'wale': 4732, 'sting': 4150, 'phishlicia': 3263, 'pier': 3278, 'senate': 3822, 'senator': 3823, 'nt': 3058, 'gaza': 1730, 'pufntrees': 3448, 'horror': 2022, 'sugar': 4219, 'pow': 3378, 'custody': 1016, 'chirp': 770, 'poke': 3339, 'physical': 3269, 'liveanduncut': 2560, 'rickygervais': 3642, 'ryancommakerry': 3731, 'stevie': 4143, 'ryan': 3730, 'useless': 4641, 'hammer': 1882, 'saramariewelch': 3755, 'suicide': 4222, 'mellie': 2731, 'blog': 446, 'conclusion': 887, 'ups': 4628, 'cactus': 628, 'opposite': 3129, 'dive': 1181, 'equality': 1376, 'patrick': 3201, 'grown': 1837, 'joint': 2294, 'coke': 848, 'bloody': 450, 'tommy': 4456, 'christ': 781, 'tacalifornia': 4265, 'hockey': 1976, 'example': 1411, 'often': 3091, 'eric': 1379, 'superman': 4235, 'thecoreyholcomb': 4370, 'thejokerxo': 4372, 'appear': 170, 'darkie': 1044, 'humble': 2052, 'habit': 1865, 'lifetime': 2533, 'lowlife': 2630, 'thin': 4391, 'office': 3086, 'troymadden': 4522, 'russian': 3728, 'spider': 4076, 'urbasicyabish': 4636, 'madden': 2653, 'messi': 2751, 'vampirrrra': 4650, 'carpet': 675, 'ajalapilgrim': 74, 'whyyousoshort': 4831, 'rd': 3523, 'cho': 772, 'ate': 219, 'duhh': 1272, 'beatin': 356, 'oml': 3110, 'curse': 1012, 'blaxican': 435, 'glo': 1766, 'balloon': 300, 'yooocaly': 4967, 'youknowmaxwell': 4971, 'awk': 254, 'mn': 2825, 'reading': 3528, 'bf': 393, 'fucked': 1683, 'ease': 1302, 'nuts': 3067, 'brag': 511, 'khloe': 2380, 'climb': 815, 'approach': 175, 'tender': 4341, 'cartel': 677, 'tee': 4327, 'jacket': 2203, 'karmas': 2342, 'northkorea': 3044, 'hippo': 1962, 'december': 1072, 'announce': 142, 'march': 2681, 'ghost': 1747, 'mcm': 2715, 'session': 3837, 'duke': 1273, 'hearted': 1925, 'nomore': 3030, 'compete': 875, 'bash': 330, 'inner': 2148, 'nuttin': 3068, 'noooo': 3036, 'okies': 3101, 'hea': 1916, 'gate': 1725, 'woyke': 4908, 'dougie': 1220, 'sudden': 4215, 'crave': 954, 'draya': 1234, 'prom': 3424, 'te': 4310, 'koolassk': 2429, 'lo': 2584, 'bubba': 584, 'duddy': 1267, 'sippin': 3926, 'desk': 1124, 'sober': 4006, 'youu': 4980, 'tweetin': 4556, 'oscar': 3143, 'winnin': 4858, 'selfies': 3816, 'allergy': 95, 'bother': 494, 'register': 3571, 'absolute': 7, 'north': 3043, 'false': 1462, 'indycar': 2140, 'cheesecake': 748, 'propaganda': 3429, 'suddenly': 4216, 'peer': 3232, 'roman': 3681, 'culture': 1000, 'rack': 3489, 'soooooo': 4037, 'debate': 1071, 'fallin': 1461, 'shoulder': 3890, 'abuse': 12, 'japan': 2226, 'versa': 4665, 'doh': 1199, 'hating': 1908, 'ditch': 1180, 'thotcho': 4403, 'relief': 3584, 'solution': 4019, 'rick': 3640, 'nigguhs': 3007, 'yuh': 4983, 'champagne': 719, 'bacc': 274, 'commercial': 866, 'towel': 4479, 'athlete': 220, 'dunkin': 1283, 'donut': 1212, 'kd': 2352, 'laundry': 2475, 'cardinal': 669, 'lettin': 2521, 'breathe': 529, 'whisper': 4822, 'ovum': 3157, 'ferrari': 1526, 'strange': 4166, 'worried': 4899, 'bath': 338, 'suspend': 4247, 'sob': 4005, 'embrace': 1353, 'spine': 4079, 'customer': 1017, 'independent': 2136, 'audition': 234, 'legacy': 2502, 'stribpol': 4178, 'mngop': 2826, 'hubby': 2044, 'berg': 381, 'moe': 2832, 'booth': 481, 'lastnight': 2464, 'biggie': 401, 'recount': 3552, 'mustard': 2910, 'menu': 2744, 'snatch': 3993, 'extension': 1428, 'fxck': 1710, 'flexin': 1587, 'chew': 753, 'rapist': 3508, 'veritaz': 4662, 'nest': 2973, 'range': 3501, 'rover': 3703, 'norris': 3042, 'non': 3031, 'dub': 1264, 'backpage': 278, 'currently': 1011, 'lawd': 2477, 'spaghetti': 4057, 'pitt': 3303, 'jennings': 2253, 'script': 3796, 'outfit': 3151, 'bryant': 579, 'quite': 3482, 'vonteeeeee': 4716, 'temper': 4334, 'scheme': 3783, 'bold': 467, 'file': 1539, 'sexual': 3844, 'bumpin': 602, 'ross': 3698, 'darealquitam': 1042, 'injury': 2146, 'bjayblast': 426, 'review': 3631, 'princess': 3405, 'caleb': 632, 'cam': 640, 'camo': 643, 'scott': 3789, 'dems': 1104, 'tonite': 4462, 'sherman': 3864, 'remove': 3592, 'hallway': 1880, 'revisit': 3632, 'frm': 1669, 'stretch': 4177, 'sucka': 4211, 'mofos': 2834, 'mexico': 2761, 'payment': 3213, 'viagra': 4677, 'itty': 2196, 'cay': 695, 'celtic': 708, 'cod': 844, 'lib': 2524, 'rumor': 3721, 'broward': 569, 'democratic': 1102, 'primary': 3403, 'fukin': 1693, 'eater': 1309, 'cheeky': 745, 'bbq': 344, 'henny': 1941, 'madd': 2652, 'nigg': 2998, 'quan': 3472, 'extend': 1427, 'toppy': 4468, 'que': 3474, 'crank': 951, 'caught': 691, 'cruise': 980, 'cutler': 1020, 'candidate': 652, 'barrybonds': 321, 'fund': 1699, 'karlie': 2340, 'platinum': 3317, 'censor': 709, 'honor': 2006, 'ty': 4572, 'forgive': 1632, 'moral': 2857, 'inconsiderate': 2132, 'speaker': 4064, 'feminism': 1520, 'professor': 3418, 'ichiro': 2076, 'dedication': 1078, 'mentally': 2742, 'wisconsin': 4863, 'leanandcuisine': 2489, 'popcorn': 3358, 'designer': 1123, 'lion': 2550, 'rename': 3594, 'health': 1919, 'official': 3088, 'miguel': 2787, 'rope': 3694, 'tasty': 4296, 'building': 593, 'ding': 1152, 'baltsneakershow': 303, 'sandal': 3751, 'lottery': 2619, 'caddy': 629, 'fanboys': 1470, 'resort': 3613, 'khaled': 2377, 'hillary': 1958, 'clinic': 817, 'choosin': 777, 'iggy': 2092, 'widd': 4835, 'justify': 2326, 'product': 3417, 'intention': 2159, 'leather': 2493, 'drinking': 1243, 'bitches': 420, 'remembers': 3589, 'inlove': 2147, 'midterm': 2783, 'jj': 2280, 'property': 3431, 'extinct': 1429, 'motor': 2877, 'aa': 0, 'reward': 3634, 'goodmorning': 1784, 'mustache': 2909, 'eattin': 1314, 'chubby': 785, 'fri': 1661, 'teddy': 4325, 'tense': 4343, 'european': 1390, 'expire': 1422, 'gtta': 1843, 'losangeles': 2612, 'employee': 1359, 'staring': 4118, 'experience': 1421, 'eyebrows': 1435, 'pencil': 3234, 'ff': 1530, 'universe': 4613, 'escort': 1383, 'educate': 1324, 'pattern': 3204, 'frontin': 1672, 'fantasy': 1473, 'machine': 2649, 'paula': 3208, 'tuna': 4540, 'grave': 1819, 'site': 3931, 'milkshake': 2799, 'forth': 1636, 'melt': 2733, 'hol': 1980, 'recap': 3544, 'favoriting': 1492, 'yaw': 4943, 'olivia': 3106, 'brake': 515, 'wrist': 4912, 'flake': 1573, 'smoking': 3986, 'ga': 1711, 'surely': 4240, 'gtfoh': 1842, 'spirit': 4080, 'ae': 46, 'virginiacity': 4701, 'yous': 4977, 'stinky': 4152, 'eww': 1407, 'ladykimora': 2447, 'vegasqueens': 4657, 'legs': 2508, 'boss': 491, 'spoiled': 4086, 'possession': 3370, 'superhero': 4233, 'therapy': 4380, 'steven': 4140, 'evening': 1394, 'turntup': 4548, 'webad': 4776, 'wepretty': 4796, 'gayvegas': 1729, 'goodnight': 1785, 'vanilla': 4652, 'ketchup': 2368, 'slackin': 3945, 'fave': 1488, 'pour': 3376, 'robin': 3670, 'columbus': 857, 'warning': 4747, 'graphic': 1817, 'lnyhbt': 2583, 'tgdn': 4359, 'pjnet': 3306, 'industry': 2139, 'accuse': 22, 'holiday': 1984, 'kimorablac': 2394, 'spiritual': 4081, 'thincc': 4392, 'anxiety': 154, 'plenty': 3327, 'attach': 224, 'sean': 3801, 'patient': 3199, 'favorites': 1491, 'openly': 3124, 'poo': 3352, 'process': 3416, 'dicc': 1138, 'lutsen': 2640, 'papa': 3176, 'thenna': 4375, 'strait': 4165, 'givin': 1761, 'satisfy': 3758, 'butch': 617, 'yeen': 4950, 'insta': 2154, 'therefore': 4382, 'enter': 1370, 'associate': 214, 'hypocritical': 2071, 'revenge': 3630, 'joy': 2302, 'ova': 3154, 'thesis': 4385, 'seein': 3812, 'hospital': 2026, 'consistent': 901, 'loan': 2587, 'appointment': 173, 'stash': 4122, 'stuntin': 4196, 'sweater': 4252, 'boof': 475, 'flee': 1582, 'otha': 3145, 'temple': 4335, 'doo': 1213, 'runner': 3723, 'donate': 1209, 'ton': 4458, 'lux': 2642, 'paranoid': 3179, 'fucced': 1679, 'randomly': 3500, 'request': 3605, 'unnecessary': 4619, 'wishy': 4866, 'washy': 4751, 'dean': 1068, 'theyre': 4388, 'junior': 2317, 'compliment': 880, 'rim': 3653, 'gatorade': 1727, 'blink': 442, 'ctfuu': 990, 'bytches': 625, 'hideous': 1951, 'azalea': 270, 'rep': 3596, 'peachpapayya': 3221, 'slightly': 3959, 'flirt': 1591, 'casket': 683, 'tae': 4269, 'stiff': 4148, 'winston': 4859, 'manly': 2673, 'firework': 1560, 'immature': 2115, 'insane': 2151, 'kappa': 2335, 'alpha': 105, 'pride': 3402, 'turner': 4546, 'rts': 3710, 'roommate': 3691, 'brownies': 572, 'teenage': 4329, 'barrel': 320, 'angle': 136, 'string': 4180, 'inform': 2144, 'button': 621, 'ace': 23, 'cani': 655, 'whack': 4804, 'eyelash': 1436, 'murk': 2903, 'tick': 4426, 'disappear': 1162, 'meek': 2726, 'subject': 4202, 'saltine': 3743, 'eaten': 1308, 'warn': 4746, 'eastern': 1305, 'jaw': 2230, 'yezidi': 4961, 'maury': 2706, 'jactionj': 2210, 'twerkin': 4560, 'bridge': 545, 'backpack': 277, 'cray': 955, 'anger': 135, 'ops': 3130, 'holler': 1986, 'arent': 181, 'barber': 316, 'overall': 3155, 'lickin': 2529, 'dislike': 1173, 'suburban': 4206, 'restaurant': 3619, 'conceited': 884, 'mcdonald': 2713, 'perry': 3250, 'tennessee': 4342, 'sucking': 4214, 'sunshine': 4230, 'libra': 2526, 'operation': 3125, 'disrupts': 1177, 'shylock': 3903, 'pcworld': 3216, 'priceless': 3401, 'worldnetdaily': 4896, 'fergie': 1524, 'ronandfezsxm': 3686, 'igiveemnathan': 2095, 'affect': 49, 'declare': 1077, 'ounce': 3148, 'boner': 470, 'tendency': 4340, 'twenty': 4558, 'pear': 3223, 'unbelievable': 4596, 'ken': 2362, 'nag': 2921, 'salt': 3742, 'jai': 2213, 'jammin': 2223, 'jenna': 2250, 'charity': 731, 'breitbartnews': 536, 'abu': 11, 'pilot': 3286, 'identify': 2081, 'ccot': 699, 'helicopter': 1935, 'kerry': 2367, 'neverforget': 2979, 'attorney': 230, 'jerry': 2258, 'lou': 2620, 'cater': 688, 'albums': 84, 'una': 4594, 'channymaraj': 726, 'meme': 2735, 'badder': 283, 'lmaooooooo': 2572, 'medical': 2723, 'lmfaoooooo': 2578, 'pbo': 3214, 'cthagod': 991, 'refund': 3565, 'ajay': 75, 'tyleriam': 4575, 'bakegriffin': 293, 'wallah': 4736, 'nem': 2967, 'vegas': 4656, 'jaetips': 2212, 'diponline': 1156, 'lmaoooooo': 2571, 'senorsteez': 3826, 'kool': 2428, 'relationshipgoals': 3580, 'groupie': 1835, 'usher': 4642, 'forward': 1637, 'jury': 2318, 'repmycityx': 3600, 'familiar': 1465, 'within': 4871, 'marijuana': 2684, 'monroe': 2848, 'teixeira': 4331, 'jane': 2224, 'mccann': 2712, 'participate': 3186, 'marie': 2683, 'missouri': 2816, 'fitness': 1566, 'direction': 1157, 'upppppp': 4627, 'flyer': 1605, 'dory': 1216, 'dum': 1274, 'todd': 4450, 'july': 2311, 'porno': 3365, 'motivation': 2876, 'severely': 3842, 'pepsi': 3241, 'cola': 849, 'flash': 1576, 'congress': 898, 'dolla': 1202, 'workin': 4893, 'cannon': 656, 'tyrese': 4578, 'fu': 1676, 'nikko': 3013, 'wink': 4856, 'chanel': 722, 'tinker': 4438, 'contract': 908, 'clique': 820, 'disappoint': 1163, 'filet': 1540, 'mignon': 2785, 'esteem': 1387, 'squeeze': 4100, 'perhaps': 3247, 'whether': 4815, 'resolution': 3612, 'rupaulsdragrace': 3726, 'genuinely': 1740, 'dolphin': 1205, 'farewellcaptain': 1476, 'reject': 3576, 'wi': 4832, 'aianhangover': 67, 'iammrechols': 2073, 'funeral': 1700, 'razor': 3521, 'calorie': 639, 'feeder': 1508, 'promoter': 3427, 'assault': 210, 'ht': 2039, 'tronkitty': 4517, 'velvethammer': 4661, 'htt': 2041, 'subway': 4207, 'assholeofdayear': 213, 'rudy': 3716, 'brief': 546, 'soulja': 4044, 'ruth': 3729, 'gehrig': 1733, 'htgawm': 2040, 'basedpaco': 328, 'roy': 3705, 'towards': 4478, 'lobby': 2588, 'nonsense': 3033, 'violence': 4697, 'latry': 2471, 'vanish': 4653, 'unemployed': 4602, 'starter': 4120, 'monogamous': 2847, 'jackie': 2204, 'brianndominguez': 542, 'zzachbarness': 4999, 'sweetheart': 4255, 'cantbelocal': 659, 'havemercyyy': 1910, 'flirting': 1592, 'lola': 2598, 'hopeful': 2016, 'jennnveee': 2254, 'staycoolwheels': 4128, 'patpatbush': 3200, 'trial': 4507, 'ma': 2646, 'merica': 2746, 'vitamin': 4706, 'flop': 1597, 'vocativ': 4709, 'possess': 3369, 'craziestsex': 957, 'cuhcuhcuh': 999, 'filter': 1543, 'curvables': 1013, 'dfkinlopes': 1133, 'gurujeremy': 1859, 'th': 4360, 'zoo': 4996, 'cable': 627, 'shinsnipes': 3872, 'tonyjrodriguez': 4464, 'cycle': 1022, 'dragonflyjonez': 1228, 'afc': 48, 'faceyspace': 1444, 'risk': 3658, 'urge': 4637, 'fleebiscuit': 1583, 'foodpornsx': 1620, 'ri': 3637, 'talent': 4276, 'eve': 1392, 'funkydineva': 1702, 'nerd': 2969, 'mansion': 2678, 'jacklynannn': 2205, 'versacesilk': 4668, 'hbcufessions': 1914, 'famu': 1468, 'ge': 1731, 'heissarcastic': 1934, 'goldfish': 1779, 'veronicagk': 4664, 'gpa': 1804, 'breathing': 530, 'imneverchillin': 2117, 'candle': 653, 'losbeonit': 2613, 'itsfoodporn': 2192, 'awwwww': 259, 'cle': 806, 'jaykelz': 2235, 'jazzriley': 2238, 'yadirasarmiento': 4927, 'abusive': 13, 'johnnyfootbali': 2291, 'logo': 2595, 'grande': 1812, 'versharky': 4672, 'bengali': 378, 'pitiful': 3302, 'killallsimps': 2389, 'immediately': 2116, 'youngtravo': 4974, 'lohanthony': 2596, 'seven': 3840, 'raven': 3517, 'baeelectronica': 287, 'blew': 440, 'reference': 3563, 'ford': 1626, 'mcnarstle': 2716, 'outbreak': 3149, 'menshumor': 2739, 'midniteboss': 2782, 'treatment': 4500, 'basedamerican': 326, 'mydickiscalled': 2916, 'eggo': 1330, 'sneaker': 3996, 'flagrant': 1572, 'nekkohbk': 2965, 'nerdatcooltable': 2970, 'nikowavy': 3014, 'nohoesnextdoor': 3026, 'nowomanisright': 3055, 'ohlawditsniesha': 3097, 'unreal': 4620, 'tuesday': 4538, 'reportedly': 3602, 'streak': 4170, 'reflect': 3564, 'probirdrights': 3414, 'ripvuhsace': 3656, 'songz': 4030, 'rakwonogod': 3495, 'rayiopez': 3520, 'nominee': 3028, 'michellemalkin': 2771, 'sexualtruth': 3846, 'sheswantsthed': 3866, 'showmeatittie': 3898, 'curious': 1007, 'robinson': 3671, 'cano': 657, 'stevstiffler': 4144, 'unattractive': 4595, 'thewalkingdead': 4387, 'haired': 1875, 'swizzzy': 4260, 'taxstone': 4302, 'thebloodshow': 4369, 'coworker': 947, 'mask': 2693, 'snail': 3989, 'thevoiceofmiami': 4386, 'ideology': 2082, 'soap': 4004, 'twitchyteam': 4566, 'urbancraziness': 4634, 'urbanengiish': 4635, 'versacetweetgod': 4669, 'villagebae': 4693, 'plank': 3312, 'pecs': 3227, 'woridstarhlphop': 4890, 'yaboylilb': 4926, 'donquixtote': 1210, 'cha': 714, 'fatter': 1485, 'drunken': 1259, 'brook': 561, 'wifeys': 4840, 'dril': 1240, 'pedestal': 3228, 'femaies': 1517, 'sonia': 4031, 'criticise': 974, 'kejriwal': 2358, 'ikesizzle': 2103, 'ne': 2949, 'referee': 3562, 'itsdorry': 2191, 'jakesiwy': 2216, 'jen': 2249, 'bankrupt': 312, 'kanyebreast': 2333, 'lnsanetweets': 2582, 'shikeattike': 3869, 'versaceezy': 4667, 'vickybeanmr': 4684, 'ut': 4644, 'reathie': 3541, 'dvd': 1288, 'upstate': 4630, 'irri': 2180, 'firefight': 1558, 'waymothegod': 4766}\n"
     ]
    }
   ],
   "source": [
    "Tfidf_vect = TfidfVectorizer(max_features=5000)\n",
    "Tfidf_vect.fit(Corpus['tweet_final'])\n",
    "Train_X_Tfidf = Tfidf_vect.transform(Train_X)\n",
    "Test_X_Tfidf = Tfidf_vect.transform(Test_X)\n",
    "\n",
    "print(Tfidf_vect.vocabulary_)"
   ]
  },
  {
   "cell_type": "code",
   "execution_count": 27,
   "id": "2159b5ad",
   "metadata": {},
   "outputs": [
    {
     "name": "stdout",
     "output_type": "stream",
     "text": [
      "SVM Accuracy Score ->  90.43712172158709\n"
     ]
    }
   ],
   "source": [
    "# Classifier - Algorithm - SVM without BERT\n",
    "# fit the training dataset on the classifier\n",
    "SVM = svm.SVC(C=1.0, kernel='linear', degree=3, gamma='auto')\n",
    "SVM.fit(Train_X_Tfidf,Train_Y)\n",
    "# predict the labels on validation dataset\n",
    "predictions_SVM = SVM.predict(Test_X_Tfidf)\n",
    "# Use accuracy_score function to get the accuracy\n",
    "print(\"SVM Accuracy Score -> \",accuracy_score(predictions_SVM, Test_Y)*100)"
   ]
  },
  {
   "cell_type": "code",
   "execution_count": 28,
   "id": "66203a06",
   "metadata": {},
   "outputs": [
    {
     "name": "stdout",
     "output_type": "stream",
     "text": [
      "              precision    recall  f1-score   support\n",
      "\n",
      "           0       0.57      0.15      0.24       454\n",
      "           1       0.93      0.96      0.94      5715\n",
      "           2       0.84      0.90      0.87      1266\n",
      "\n",
      "    accuracy                           0.90      7435\n",
      "   macro avg       0.78      0.67      0.69      7435\n",
      "weighted avg       0.89      0.90      0.89      7435\n",
      "\n"
     ]
    }
   ],
   "source": [
    "print(classification_report(Test_Y,predictions_SVM))"
   ]
  },
  {
   "cell_type": "code",
   "execution_count": 31,
   "id": "2f857597",
   "metadata": {},
   "outputs": [
    {
     "name": "stdout",
     "output_type": "stream",
     "text": [
      "Accuracy: 0.9043712172158709\n",
      "Classification Report:\n",
      "               precision    recall  f1-score   support\n",
      "\n",
      "           0       0.57      0.15      0.24       454\n",
      "           1       0.93      0.96      0.94      5715\n",
      "           2       0.84      0.90      0.87      1266\n",
      "\n",
      "    accuracy                           0.90      7435\n",
      "   macro avg       0.78      0.67      0.69      7435\n",
      "weighted avg       0.89      0.90      0.89      7435\n",
      "\n"
     ]
    },
    {
     "data": {
      "image/png": "[encoded data removed]",
      "text/plain": [
       "<Figure size 432x288 with 2 Axes>"
      ]
     },
     "metadata": {
      "needs_background": "light"
     },
     "output_type": "display_data"
    }
   ],
   "source": [
    "# Evaluate the model\n",
    "print(\"Accuracy:\", accuracy_score(Test_Y, predictions_SVM))\n",
    "print(\"Classification Report:\\n\", classification_report(Test_Y, predictions_SVM))\n",
    "\n",
    "# Compute the confusion matrix\n",
    "conf_matrix = confusion_matrix(Test_Y, predictions_SVM)\n",
    "\n",
    "# Compute and plot the confusion matrix\n",
    "sns.heatmap(conf_matrix, annot=True, fmt='d', cmap='Blues', xticklabels=SVM.classes_, yticklabels=SVM.classes_)\n",
    "plt.xlabel('Predicted Label')\n",
    "plt.ylabel('True Label')\n",
    "plt.title('Confusion Matrix')\n",
    "plt.show()\n"
   ]
  },
  {
   "cell_type": "code",
   "execution_count": 46,
   "id": "ede2288c",
   "metadata": {},
   "outputs": [
    {
     "name": "stdout",
     "output_type": "stream",
     "text": [
      "SVM Accuracy Score ->  90.5581708137189\n",
      "Classification Report:\n",
      "               precision    recall  f1-score   support\n",
      "\n",
      "           0       0.55      0.16      0.24       427\n",
      "           1       0.93      0.96      0.94      5747\n",
      "           2       0.84      0.90      0.87      1261\n",
      "\n",
      "    accuracy                           0.91      7435\n",
      "   macro avg       0.77      0.67      0.69      7435\n",
      "weighted avg       0.89      0.91      0.89      7435\n",
      "\n"
     ]
    },
    {
     "data": {
      "image/png": "[encoded data removed]",
      "text/plain": [
       "<Figure size 432x288 with 2 Axes>"
      ]
     },
     "metadata": {
      "needs_background": "light"
     },
     "output_type": "display_data"
    }
   ],
   "source": [
    "import pandas as pd\n",
    "from nltk.corpus import stopwords\n",
    "from nltk.stem import WordNetLemmatizer\n",
    "from nltk import pos_tag\n",
    "from sklearn.model_selection import train_test_split\n",
    "from sklearn import svm\n",
    "from sklearn.metrics import classification_report, accuracy_score, confusion_matrix\n",
    "from sklearn.feature_extraction.text import TfidfVectorizer\n",
    "import seaborn as sns\n",
    "import matplotlib.pyplot as plt\n",
    "\n",
    "\n",
    "# Initialise necessary objects\n",
    "word_Lemmatized = WordNetLemmatizer()\n",
    "stop_words = set(stopwords.words('english'))\n",
    "\n",
    "# Tag map for WordNetLemmatizer to understand POS tags\n",
    "tag_map = {'N': 'n', 'V': 'v', 'R': 'r', 'J': 'a'}\n",
    "\n",
    "# Preprocess the tweets\n",
    "for index, entry in enumerate(Corpus['tweet']):\n",
    "    Final_words = []\n",
    "    for word, tag in pos_tag(entry):\n",
    "        if word not in stop_words and word.isalpha():\n",
    "            word_Final = word_Lemmatized.lemmatize(word, tag_map.get(tag[0], 'n'))  # default to 'n' if tag not found\n",
    "            Final_words.append(word_Final)\n",
    "    Corpus.loc[index, 'tweet_final'] = ' '.join(Final_words)\n",
    "\n",
    "    \n",
    "# Split data into training and testing sets\n",
    "Train_X, Test_X, Train_Y, Test_Y = train_test_split(Corpus['tweet_final'], Corpus['class'], test_size=0.3, random_state=42)\n",
    "\n",
    "# Vectorize the text data\n",
    "Tfidf_vect = TfidfVectorizer()\n",
    "Tfidf_vect.fit(Corpus['tweet_final'])\n",
    "\n",
    "Train_X_Tfidf = Tfidf_vect.transform(Train_X)\n",
    "Test_X_Tfidf = Tfidf_vect.transform(Test_X)\n",
    "\n",
    "# Train the SVM model\n",
    "SVM = svm.SVC(C=1.0, kernel='linear', degree=3, gamma='auto')\n",
    "SVM.fit(Train_X_Tfidf, Train_Y)\n",
    "\n",
    "# Make predictions on the test set\n",
    "predictions_SVM = SVM.predict(Test_X_Tfidf)\n",
    "\n",
    "# Evaluate the model\n",
    "print(\"SVM Accuracy Score -> \", accuracy_score(predictions_SVM, Test_Y) * 100)\n",
    "print(\"Classification Report:\\n\", classification_report(Test_Y, predictions_SVM))\n",
    "\n",
    "# Compute and plot the confusion matrix\n",
    "conf_matrix = confusion_matrix(Test_Y, predictions_SVM)\n",
    "\n",
    "sns.heatmap(conf_matrix, annot=True, fmt='d', cmap='Blues', xticklabels=SVM.classes_, yticklabels=SVM.classes_)\n",
    "plt.xlabel('Predicted Label')\n",
    "plt.ylabel('True Label')\n",
    "plt.title('Confusion Matrix')\n",
    "plt.show()\n"
   ]
  },
  {
   "cell_type": "code",
   "execution_count": 47,
   "id": "20416b6b",
   "metadata": {},
   "outputs": [
    {
     "name": "stdout",
     "output_type": "stream",
     "text": [
      "Fitting 5 folds for each of 12 candidates, totalling 60 fits\n",
      "[CV] END ...................C=0.1, gamma=auto, kernel=linear; total time=   7.2s\n",
      "[CV] END ...................C=0.1, gamma=auto, kernel=linear; total time=   7.0s\n",
      "[CV] END ...................C=0.1, gamma=auto, kernel=linear; total time=   7.1s\n",
      "[CV] END ...................C=0.1, gamma=auto, kernel=linear; total time=   7.1s\n",
      "[CV] END ...................C=0.1, gamma=auto, kernel=linear; total time=   7.1s\n",
      "[CV] END ......................C=0.1, gamma=auto, kernel=rbf; total time=   6.4s\n",
      "[CV] END ......................C=0.1, gamma=auto, kernel=rbf; total time=   6.3s\n",
      "[CV] END ......................C=0.1, gamma=auto, kernel=rbf; total time=   6.2s\n",
      "[CV] END ......................C=0.1, gamma=auto, kernel=rbf; total time=   6.3s\n",
      "[CV] END ......................C=0.1, gamma=auto, kernel=rbf; total time=   6.3s\n",
      "[CV] END ..................C=0.1, gamma=scale, kernel=linear; total time=   7.3s\n",
      "[CV] END ..................C=0.1, gamma=scale, kernel=linear; total time=   7.0s\n",
      "[CV] END ..................C=0.1, gamma=scale, kernel=linear; total time=   7.0s\n",
      "[CV] END ..................C=0.1, gamma=scale, kernel=linear; total time=   7.0s\n",
      "[CV] END ..................C=0.1, gamma=scale, kernel=linear; total time=   6.9s\n",
      "[CV] END .....................C=0.1, gamma=scale, kernel=rbf; total time=  10.6s\n",
      "[CV] END .....................C=0.1, gamma=scale, kernel=rbf; total time=  10.5s\n",
      "[CV] END .....................C=0.1, gamma=scale, kernel=rbf; total time=  10.5s\n",
      "[CV] END .....................C=0.1, gamma=scale, kernel=rbf; total time=  10.4s\n",
      "[CV] END .....................C=0.1, gamma=scale, kernel=rbf; total time=  10.6s\n",
      "[CV] END .....................C=1, gamma=auto, kernel=linear; total time=   5.7s\n",
      "[CV] END .....................C=1, gamma=auto, kernel=linear; total time=   5.8s\n",
      "[CV] END .....................C=1, gamma=auto, kernel=linear; total time=   5.7s\n",
      "[CV] END .....................C=1, gamma=auto, kernel=linear; total time=   5.6s\n",
      "[CV] END .....................C=1, gamma=auto, kernel=linear; total time=   5.7s\n",
      "[CV] END ........................C=1, gamma=auto, kernel=rbf; total time=   6.6s\n",
      "[CV] END ........................C=1, gamma=auto, kernel=rbf; total time=   6.6s\n",
      "[CV] END ........................C=1, gamma=auto, kernel=rbf; total time=   6.6s\n",
      "[CV] END ........................C=1, gamma=auto, kernel=rbf; total time=   6.7s\n",
      "[CV] END ........................C=1, gamma=auto, kernel=rbf; total time=   6.6s\n",
      "[CV] END ....................C=1, gamma=scale, kernel=linear; total time=   5.6s\n",
      "[CV] END ....................C=1, gamma=scale, kernel=linear; total time=   5.7s\n",
      "[CV] END ....................C=1, gamma=scale, kernel=linear; total time=   5.5s\n",
      "[CV] END ....................C=1, gamma=scale, kernel=linear; total time=   5.6s\n",
      "[CV] END ....................C=1, gamma=scale, kernel=linear; total time=   5.8s\n",
      "[CV] END .......................C=1, gamma=scale, kernel=rbf; total time=  11.5s\n",
      "[CV] END .......................C=1, gamma=scale, kernel=rbf; total time=  10.9s\n",
      "[CV] END .......................C=1, gamma=scale, kernel=rbf; total time=  10.8s\n",
      "[CV] END .......................C=1, gamma=scale, kernel=rbf; total time=  10.7s\n",
      "[CV] END .......................C=1, gamma=scale, kernel=rbf; total time=  10.8s\n",
      "[CV] END ....................C=10, gamma=auto, kernel=linear; total time=   5.7s\n",
      "[CV] END ....................C=10, gamma=auto, kernel=linear; total time=   5.8s\n",
      "[CV] END ....................C=10, gamma=auto, kernel=linear; total time=   5.7s\n",
      "[CV] END ....................C=10, gamma=auto, kernel=linear; total time=   5.6s\n",
      "[CV] END ....................C=10, gamma=auto, kernel=linear; total time=   5.7s\n",
      "[CV] END .......................C=10, gamma=auto, kernel=rbf; total time=   7.7s\n",
      "[CV] END .......................C=10, gamma=auto, kernel=rbf; total time=   7.4s\n",
      "[CV] END .......................C=10, gamma=auto, kernel=rbf; total time=   7.6s\n",
      "[CV] END .......................C=10, gamma=auto, kernel=rbf; total time=   7.6s\n",
      "[CV] END .......................C=10, gamma=auto, kernel=rbf; total time=   7.6s\n",
      "[CV] END ...................C=10, gamma=scale, kernel=linear; total time=   5.8s\n",
      "[CV] END ...................C=10, gamma=scale, kernel=linear; total time=   5.9s\n",
      "[CV] END ...................C=10, gamma=scale, kernel=linear; total time=   5.9s\n",
      "[CV] END ...................C=10, gamma=scale, kernel=linear; total time=   5.7s\n",
      "[CV] END ...................C=10, gamma=scale, kernel=linear; total time=   5.8s\n",
      "[CV] END ......................C=10, gamma=scale, kernel=rbf; total time=  19.1s\n",
      "[CV] END ......................C=10, gamma=scale, kernel=rbf; total time=  19.8s\n",
      "[CV] END ......................C=10, gamma=scale, kernel=rbf; total time=  18.8s\n",
      "[CV] END ......................C=10, gamma=scale, kernel=rbf; total time=  18.4s\n",
      "[CV] END ......................C=10, gamma=scale, kernel=rbf; total time=  18.6s\n"
     ]
    }
   ],
   "source": [
    "from sklearn.model_selection import GridSearchCV\n",
    "\n",
    "param_grid = {'C': [0.1, 1, 10], 'kernel': ['linear', 'rbf'], 'gamma': ['auto', 'scale']}\n",
    "grid = GridSearchCV(svm.SVC(), param_grid, refit=True, verbose=2)\n",
    "grid.fit(Train_X_Tfidf, Train_Y)\n",
    "\n",
    "# Use the best estimator\n",
    "best_SVM = grid.best_estimator_\n",
    "predictions_SVM = best_SVM.predict(Test_X_Tfidf)\n"
   ]
  },
  {
   "cell_type": "code",
   "execution_count": 48,
   "id": "4a811bb3",
   "metadata": {},
   "outputs": [],
   "source": [
    "#data balancing"
   ]
  },
  {
   "cell_type": "code",
   "execution_count": 11,
   "id": "02e030be",
   "metadata": {},
   "outputs": [],
   "source": [
    "from imblearn.over_sampling import SMOTE\n",
    "\n",
    "smote = SMOTE()\n",
    "Train_X_Tfidf, Train_Y = smote.fit_resample(Train_X_Tfidf, Train_Y)\n"
   ]
  },
  {
   "cell_type": "code",
   "execution_count": 19,
   "id": "1ba79ae8",
   "metadata": {},
   "outputs": [
    {
     "name": "stdout",
     "output_type": "stream",
     "text": [
      "Weight for class 0: 5.78\n",
      "Weight for class 1: 0.43\n",
      "Weight for class 2: 1.98\n"
     ]
    }
   ],
   "source": [
    "weight_for_0 = (1 / 1430)*(24783)/3.0 \n",
    "weight_for_1 = (1 / 19190)*(24783)/3.0\n",
    "weight_for_2 = (1 / 4163)*(24783)/3.0\n",
    "\n",
    "\n",
    "class_weight = {0: weight_for_0, 1: weight_for_1, 2: weight_for_2}\n",
    "\n",
    "print('Weight for class 0: {:.2f}'.format(weight_for_0))\n",
    "print('Weight for class 1: {:.2f}'.format(weight_for_1))\n",
    "print('Weight for class 2: {:.2f}'.format(weight_for_2))"
   ]
  },
  {
   "cell_type": "code",
   "execution_count": 21,
   "id": "be90eaaf",
   "metadata": {},
   "outputs": [
    {
     "name": "stdout",
     "output_type": "stream",
     "text": [
      "SVM Accuracy Score ->  80.8338937457969\n",
      "Classification Report:\n",
      "               precision    recall  f1-score   support\n",
      "\n",
      "           0       0.21      0.61      0.32       419\n",
      "           1       0.97      0.80      0.88      5752\n",
      "           2       0.76      0.93      0.84      1264\n",
      "\n",
      "    accuracy                           0.81      7435\n",
      "   macro avg       0.65      0.78      0.68      7435\n",
      "weighted avg       0.89      0.81      0.84      7435\n",
      "\n"
     ]
    },
    {
     "data": {
      "image/png": "[encoded data removed]",
      "text/plain": [
       "<Figure size 432x288 with 2 Axes>"
      ]
     },
     "metadata": {
      "needs_background": "light"
     },
     "output_type": "display_data"
    }
   ],
   "source": [
    "# SVM with Class weight adjustment\n",
    "SVM = svm.SVC(C=1.0, kernel='linear', class_weight={0: 3, 1: 0.5, 2: 2}, degree=3, gamma='auto')\n",
    "SVM.fit(Train_X_Tfidf, Train_Y)\n",
    "\n",
    "# Make predictions\n",
    "predictions_SVM = SVM.predict(Test_X_Tfidf)\n",
    "\n",
    "# Evaluate\n",
    "print(\"SVM Accuracy Score -> \", accuracy_score(predictions_SVM, Test_Y) * 100)\n",
    "print(\"Classification Report:\\n\", classification_report(Test_Y, predictions_SVM))\n",
    "\n",
    "# Compute and plot confusion matrix\n",
    "conf_matrix = confusion_matrix(Test_Y, predictions_SVM)\n",
    "sns.heatmap(conf_matrix, annot=True, fmt='d', cmap='Blues', xticklabels=SVM.classes_, yticklabels=SVM.classes_)\n",
    "plt.xlabel('Predicted Label')\n",
    "plt.ylabel('True Label')\n",
    "plt.title('Confusion Matrix')\n",
    "plt.show()\n"
   ]
  },
  {
   "cell_type": "code",
   "execution_count": 35,
   "id": "2b7af7cf",
   "metadata": {},
   "outputs": [
    {
     "name": "stdout",
     "output_type": "stream",
     "text": [
      "SVM Accuracy Score ->  80.86079354404842\n",
      "Classification Report:\n",
      "               precision    recall  f1-score   support\n",
      "\n",
      "           0       0.26      0.70      0.38       454\n",
      "           1       0.98      0.78      0.87      5715\n",
      "           2       0.75      0.95      0.84      1266\n",
      "\n",
      "    accuracy                           0.81      7435\n",
      "   macro avg       0.66      0.81      0.70      7435\n",
      "weighted avg       0.90      0.81      0.84      7435\n",
      "\n"
     ]
    },
    {
     "data": {
      "image/png": "[encoded data removed]",
      "text/plain": [
       "<Figure size 432x288 with 2 Axes>"
      ]
     },
     "metadata": {
      "needs_background": "light"
     },
     "output_type": "display_data"
    },
    {
     "name": "stdout",
     "output_type": "stream",
     "text": [
      "Cross-Validation Scores:  [0.8619666  0.88002474 0.87285096 0.87495362 0.87458256]\n",
      "Mean CV Score:  0.8728756957328386\n"
     ]
    },
    {
     "data": {
      "text/plain": [
       "SVC(C=0.1, class_weight={0: 1.5, 1: 1, 2: 1.25}, gamma='auto', kernel='linear')"
      ]
     },
     "execution_count": 35,
     "metadata": {},
     "output_type": "execute_result"
    }
   ],
   "source": [
    "from imblearn.over_sampling import SMOTE\n",
    "\n",
    "# Initialize SMOTE for oversampling\n",
    "smote = SMOTE(random_state=42)\n",
    "\n",
    "# Apply SMOTE on the training data\n",
    "Train_X_SMOTE, Train_Y_SMOTE = smote.fit_resample(Train_X_Tfidf, Train_Y)\n",
    "# Train the SVM model with a lower C value\n",
    "SVM = svm.SVC(C=0.1, kernel='linear', class_weight={0: 1.5, 1: 1, 2: 1.25}, degree=3, gamma='auto')\n",
    "SVM.fit(Train_X_SMOTE, Train_Y_SMOTE)\n",
    "# Make predictions on the test set\n",
    "predictions_SVM = SVM.predict(Test_X_Tfidf)\n",
    "\n",
    "# Evaluate the model\n",
    "print(\"SVM Accuracy Score -> \", accuracy_score(predictions_SVM, Test_Y) * 100)\n",
    "print(\"Classification Report:\\n\", classification_report(Test_Y, predictions_SVM))\n",
    "\n",
    "# Compute and plot the confusion matrix\n",
    "conf_matrix = confusion_matrix(Test_Y, predictions_SVM)\n",
    "\n",
    "sns.heatmap(conf_matrix, annot=True, fmt='d', cmap='Blues', xticklabels=SVM.classes_, yticklabels=SVM.classes_)\n",
    "plt.xlabel('Predicted Label')\n",
    "plt.ylabel('True Label')\n",
    "plt.title('Confusion Matrix')\n",
    "plt.show()\n",
    "from sklearn.model_selection import cross_val_score\n",
    "\n",
    "# Perform 5-fold cross-validation\n",
    "cross_val_scores = cross_val_score(SVM, Train_X_SMOTE, Train_Y_SMOTE, cv=5)\n",
    "print(\"Cross-Validation Scores: \", cross_val_scores)\n",
    "print(\"Mean CV Score: \", cross_val_scores.mean())\n",
    "from sklearn.decomposition import PCA\n",
    "\n",
    "# Apply PCA to reduce dimensionality\n",
    "pca = PCA(n_components=100)\n",
    "Train_X_PCA = pca.fit_transform(Train_X_SMOTE.toarray())\n",
    "Test_X_PCA = pca.transform(Test_X_Tfidf.toarray())\n",
    "\n",
    "# Re-train the SVM model with PCA-transformed data\n",
    "SVM.fit(Train_X_PCA, Train_Y_SMOTE)\n"
   ]
  },
  {
   "cell_type": "code",
   "execution_count": null,
   "id": "ff37cd94",
   "metadata": {},
   "outputs": [],
   "source": []
  }
 ],
 "metadata": {
  "kernelspec": {
   "display_name": "Python 3 (ipykernel)",
   "language": "python",
   "name": "python3"
  },
  "language_info": {
   "codemirror_mode": {
    "name": "ipython",
    "version": 3
   },
   "file_extension": ".py",
   "mimetype": "text/x-python",
   "name": "python",
   "nbconvert_exporter": "python",
   "pygments_lexer": "ipython3",
   "version": "3.9.12"
  }
 },
 "nbformat": 4,
 "nbformat_minor": 5
}
