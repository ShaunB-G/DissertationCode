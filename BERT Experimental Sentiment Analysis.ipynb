{
 "cells": [
  {
   "cell_type": "code",
   "execution_count": 6,
   "id": "17b9997e",
   "metadata": {},
   "outputs": [],
   "source": [
    "import pandas as pd \n",
    "import tensorflow as tf### models\n",
    "import numpy as np### math computations\n",
    "import matplotlib.pyplot as plt### plotting bar chart\n",
    "import sklearn### machine learning library\n",
    "from sklearn.metrics import confusion_matrix, roc_curve### metrics\n",
    "import seaborn as sns### visualizations\n",
    "import os \n",
    "import re # for Regular Expressions\n",
    "import string\n",
    "import time\n",
    "from numpy import random\n",
    "from transformers import BertTokenizer, BertModel\n",
    "from sklearn.cluster import KMeans\n",
    "from sklearn.decomposition import PCA\n",
    "from tensorflow.keras.models import Model\n",
    "from tensorflow.keras.layers import Layer\n",
    "from tensorflow.keras.layers import (Dense,Flatten,InputLayer,BatchNormalization,\n",
    "                                     Dropout,Input,LayerNormalization)\n",
    "from tensorflow.keras.losses import (BinaryCrossentropy,CategoricalCrossentropy,\n",
    "                                    SparseCategoricalCrossentropy)\n",
    "from tensorflow.keras.metrics import (Accuracy,TopKCategoricalAccuracy,\n",
    "                                 CategoricalAccuracy, SparseCategoricalAccuracy)\n",
    "from tensorflow.keras.optimizers import Adam\n",
    "from transformers import (BertTokenizerFast,TFBertTokenizer,BertTokenizer,RobertaTokenizerFast,\n",
    "                          DataCollatorWithPadding,TFRobertaForSequenceClassification,TFBertForSequenceClassification,\n",
    "                          TFBertModel,create_optimizer)"
   ]
  },
  {
   "cell_type": "code",
   "execution_count": 7,
   "id": "cac8bed1",
   "metadata": {},
   "outputs": [],
   "source": [
    "LDS = pd.read_csv(\"ProcessedLabeledData.csv\")\n",
    "LDS = LDS.drop('Unnamed: 0', axis = 1)"
   ]
  },
  {
   "cell_type": "code",
   "execution_count": 8,
   "id": "a810f656",
   "metadata": {},
   "outputs": [
    {
     "data": {
      "text/html": [
       "<div>\n",
       "<style scoped>\n",
       "    .dataframe tbody tr th:only-of-type {\n",
       "        vertical-align: middle;\n",
       "    }\n",
       "\n",
       "    .dataframe tbody tr th {\n",
       "        vertical-align: top;\n",
       "    }\n",
       "\n",
       "    .dataframe thead th {\n",
       "        text-align: right;\n",
       "    }\n",
       "</style>\n",
       "<table border=\"1\" class=\"dataframe\">\n",
       "  <thead>\n",
       "    <tr style=\"text-align: right;\">\n",
       "      <th></th>\n",
       "      <th>class</th>\n",
       "      <th>tweet</th>\n",
       "    </tr>\n",
       "  </thead>\n",
       "  <tbody>\n",
       "    <tr>\n",
       "      <th>0</th>\n",
       "      <td>2</td>\n",
       "      <td>woman shouldnt complain cleaning house man alw...</td>\n",
       "    </tr>\n",
       "    <tr>\n",
       "      <th>1</th>\n",
       "      <td>1</td>\n",
       "      <td>boy dat coldtyga dwn bad cuffin dat hoe 1st place</td>\n",
       "    </tr>\n",
       "    <tr>\n",
       "      <th>2</th>\n",
       "      <td>1</td>\n",
       "      <td>dawg ever fuck bitch start cry confused shit</td>\n",
       "    </tr>\n",
       "    <tr>\n",
       "      <th>3</th>\n",
       "      <td>1</td>\n",
       "      <td>look like tranny</td>\n",
       "    </tr>\n",
       "    <tr>\n",
       "      <th>4</th>\n",
       "      <td>1</td>\n",
       "      <td>shit hear might true might faker bitch told ya</td>\n",
       "    </tr>\n",
       "  </tbody>\n",
       "</table>\n",
       "</div>"
      ],
      "text/plain": [
       "   class                                              tweet\n",
       "0      2  woman shouldnt complain cleaning house man alw...\n",
       "1      1  boy dat coldtyga dwn bad cuffin dat hoe 1st place\n",
       "2      1       dawg ever fuck bitch start cry confused shit\n",
       "3      1                                   look like tranny\n",
       "4      1     shit hear might true might faker bitch told ya"
      ]
     },
     "execution_count": 8,
     "metadata": {},
     "output_type": "execute_result"
    }
   ],
   "source": [
    "LDS.head()"
   ]
  },
  {
   "cell_type": "code",
   "execution_count": 5,
   "id": "ca7e1430",
   "metadata": {},
   "outputs": [
    {
     "data": {
      "text/html": [
       "<div>\n",
       "<style scoped>\n",
       "    .dataframe tbody tr th:only-of-type {\n",
       "        vertical-align: middle;\n",
       "    }\n",
       "\n",
       "    .dataframe tbody tr th {\n",
       "        vertical-align: top;\n",
       "    }\n",
       "\n",
       "    .dataframe thead th {\n",
       "        text-align: right;\n",
       "    }\n",
       "</style>\n",
       "<table border=\"1\" class=\"dataframe\">\n",
       "  <thead>\n",
       "    <tr style=\"text-align: right;\">\n",
       "      <th></th>\n",
       "      <th>class</th>\n",
       "      <th>tweet</th>\n",
       "    </tr>\n",
       "  </thead>\n",
       "  <tbody>\n",
       "    <tr>\n",
       "      <th>24978</th>\n",
       "      <td>0</td>\n",
       "      <td>starting sound like real faggot black monkey</td>\n",
       "    </tr>\n",
       "    <tr>\n",
       "      <th>24979</th>\n",
       "      <td>0</td>\n",
       "      <td>youre retard forcing onto people muslim kicked...</td>\n",
       "    </tr>\n",
       "    <tr>\n",
       "      <th>24980</th>\n",
       "      <td>0</td>\n",
       "      <td>saw vid vettel gay pride bike ukraine arm band...</td>\n",
       "    </tr>\n",
       "    <tr>\n",
       "      <th>24981</th>\n",
       "      <td>0</td>\n",
       "      <td>little faggot suck homo</td>\n",
       "    </tr>\n",
       "    <tr>\n",
       "      <th>24982</th>\n",
       "      <td>0</td>\n",
       "      <td>tranny storytime black monkey towelheads</td>\n",
       "    </tr>\n",
       "  </tbody>\n",
       "</table>\n",
       "</div>"
      ],
      "text/plain": [
       "       class                                              tweet\n",
       "24978      0       starting sound like real faggot black monkey\n",
       "24979      0  youre retard forcing onto people muslim kicked...\n",
       "24980      0  saw vid vettel gay pride bike ukraine arm band...\n",
       "24981      0                            little faggot suck homo\n",
       "24982      0           tranny storytime black monkey towelheads"
      ]
     },
     "execution_count": 5,
     "metadata": {},
     "output_type": "execute_result"
    }
   ],
   "source": [
    "LDS.tail()"
   ]
  },
  {
   "cell_type": "code",
   "execution_count": 5,
   "id": "778742be",
   "metadata": {},
   "outputs": [
    {
     "name": "stderr",
     "output_type": "stream",
     "text": [
      "C:\\Users\\Shaun\\anaconda3\\lib\\site-packages\\transformers\\tokenization_utils_base.py:1601: FutureWarning: `clean_up_tokenization_spaces` was not set. It will be set to `True` by default. This behavior will be depracted in transformers v4.45, and will be then set to `False` by default. For more details check this issue: https://github.com/huggingface/transformers/issues/31884\n",
      "  warnings.warn(\n"
     ]
    },
    {
     "name": "stdout",
     "output_type": "stream",
     "text": [
      "WARNING:tensorflow:From C:\\Users\\Shaun\\anaconda3\\lib\\site-packages\\keras\\src\\backend.py:873: The name tf.get_default_graph is deprecated. Please use tf.compat.v1.get_default_graph instead.\n",
      "\n"
     ]
    },
    {
     "name": "stderr",
     "output_type": "stream",
     "text": [
      "Some weights of the PyTorch model were not used when initializing the TF 2.0 model TFBertModel: ['cls.seq_relationship.weight', 'cls.seq_relationship.bias', 'cls.predictions.bias', 'cls.predictions.transform.LayerNorm.bias', 'cls.predictions.transform.dense.weight', 'cls.predictions.transform.LayerNorm.weight', 'cls.predictions.transform.dense.bias']\n",
      "- This IS expected if you are initializing TFBertModel from a PyTorch model trained on another task or with another architecture (e.g. initializing a TFBertForSequenceClassification model from a BertForPreTraining model).\n",
      "- This IS NOT expected if you are initializing TFBertModel from a PyTorch model that you expect to be exactly identical (e.g. initializing a TFBertForSequenceClassification model from a BertForSequenceClassification model).\n",
      "All the weights of TFBertModel were initialized from the PyTorch model.\n",
      "If your task is similar to the task the model of the checkpoint was trained on, you can already use TFBertModel for predictions without further training.\n"
     ]
    }
   ],
   "source": [
    "import torch\n",
    "BATCH_SIZE=8\n",
    "# Load pre-trained BERT model and tokenizer\n",
    "tokenizer = BertTokenizer.from_pretrained('bert-base-uncased')\n",
    "model = TFBertModel.from_pretrained('bert-base-uncased')\n"
   ]
  },
  {
   "cell_type": "code",
   "execution_count": 7,
   "id": "d6975168",
   "metadata": {},
   "outputs": [
    {
     "name": "stderr",
     "output_type": "stream",
     "text": [
      "No model was supplied, defaulted to distilbert/distilbert-base-uncased-finetuned-sst-2-english and revision af0f99b (https://huggingface.co/distilbert/distilbert-base-uncased-finetuned-sst-2-english).\n",
      "Using a pipeline without specifying a model name and revision in production is not recommended.\n"
     ]
    },
    {
     "name": "stdout",
     "output_type": "stream",
     "text": [
      "WARNING:tensorflow:From C:\\Users\\Shaun\\anaconda3\\lib\\site-packages\\keras\\src\\backend.py:873: The name tf.get_default_graph is deprecated. Please use tf.compat.v1.get_default_graph instead.\n",
      "\n"
     ]
    },
    {
     "name": "stderr",
     "output_type": "stream",
     "text": [
      "All PyTorch model weights were used when initializing TFDistilBertForSequenceClassification.\n",
      "\n",
      "All the weights of TFDistilBertForSequenceClassification were initialized from the PyTorch model.\n",
      "If your task is similar to the task the model of the checkpoint was trained on, you can already use TFDistilBertForSequenceClassification for predictions without further training.\n",
      "C:\\Users\\Shaun\\anaconda3\\lib\\site-packages\\transformers\\tokenization_utils_base.py:1601: FutureWarning: `clean_up_tokenization_spaces` was not set. It will be set to `True` by default. This behavior will be depracted in transformers v4.45, and will be then set to `False` by default. For more details check this issue: https://github.com/huggingface/transformers/issues/31884\n",
      "  warnings.warn(\n"
     ]
    }
   ],
   "source": [
    "from transformers import pipeline\n",
    " \n",
    "# Downloading the sentiment analysis model\n",
    "SentimentClassifier = pipeline(\"sentiment-analysis\")"
   ]
  },
  {
   "cell_type": "markdown",
   "id": "78352de8",
   "metadata": {},
   "source": [
    "# Defining a function to call for the whole dataframe\n",
    "def FunctionBERTSentiment(inpText):\n",
    "  return(SentimentClassifier(inpText)[0]['label'])\n",
    "  return(SentimentClassifier(inpText)[0]['score'])"
   ]
  },
  {
   "cell_type": "markdown",
   "id": "c677ee44",
   "metadata": {},
   "source": [
    "#BERT sentiment result function for every tweet\n",
    "LDS['Sentiment']=LDS['tweet'].apply(FunctionBERTSentiment)\n",
    "LDS.head(10)"
   ]
  },
  {
   "cell_type": "code",
   "execution_count": 8,
   "id": "9e6ede47",
   "metadata": {},
   "outputs": [],
   "source": [
    "import seaborn as sns\n",
    "import pandas as pd\n",
    "import numpy as np\n",
    "import matplotlib.pyplot as plt\n"
   ]
  },
  {
   "cell_type": "code",
   "execution_count": 9,
   "id": "023f4f83",
   "metadata": {},
   "outputs": [
    {
     "data": {
      "text/html": [
       "<div>\n",
       "<style scoped>\n",
       "    .dataframe tbody tr th:only-of-type {\n",
       "        vertical-align: middle;\n",
       "    }\n",
       "\n",
       "    .dataframe tbody tr th {\n",
       "        vertical-align: top;\n",
       "    }\n",
       "\n",
       "    .dataframe thead th {\n",
       "        text-align: right;\n",
       "    }\n",
       "</style>\n",
       "<table border=\"1\" class=\"dataframe\">\n",
       "  <thead>\n",
       "    <tr style=\"text-align: right;\">\n",
       "      <th></th>\n",
       "      <th>class</th>\n",
       "      <th>tweet</th>\n",
       "    </tr>\n",
       "  </thead>\n",
       "  <tbody>\n",
       "    <tr>\n",
       "      <th>0</th>\n",
       "      <td>2</td>\n",
       "      <td>woman shouldnt complain cleaning house man alw...</td>\n",
       "    </tr>\n",
       "    <tr>\n",
       "      <th>1</th>\n",
       "      <td>1</td>\n",
       "      <td>boy dat coldtyga dwn bad cuffin dat hoe 1st place</td>\n",
       "    </tr>\n",
       "    <tr>\n",
       "      <th>2</th>\n",
       "      <td>1</td>\n",
       "      <td>dawg ever fuck bitch start cry confused shit</td>\n",
       "    </tr>\n",
       "    <tr>\n",
       "      <th>3</th>\n",
       "      <td>1</td>\n",
       "      <td>look like tranny</td>\n",
       "    </tr>\n",
       "    <tr>\n",
       "      <th>4</th>\n",
       "      <td>1</td>\n",
       "      <td>shit hear might true might faker bitch told ya</td>\n",
       "    </tr>\n",
       "  </tbody>\n",
       "</table>\n",
       "</div>"
      ],
      "text/plain": [
       "   class                                              tweet\n",
       "0      2  woman shouldnt complain cleaning house man alw...\n",
       "1      1  boy dat coldtyga dwn bad cuffin dat hoe 1st place\n",
       "2      1       dawg ever fuck bitch start cry confused shit\n",
       "3      1                                   look like tranny\n",
       "4      1     shit hear might true might faker bitch told ya"
      ]
     },
     "execution_count": 9,
     "metadata": {},
     "output_type": "execute_result"
    }
   ],
   "source": [
    "LDS = pd.read_csv(\"ProcessedLabeledData.csv\")\n",
    "LDS = LDS.drop('Unnamed: 0', axis = 1)\n",
    "LDS.head()"
   ]
  },
  {
   "cell_type": "code",
   "execution_count": 11,
   "id": "ddcc6e59",
   "metadata": {},
   "outputs": [],
   "source": [
    "LDS['tweet']= LDS['tweet'].astype(str)"
   ]
  },
  {
   "cell_type": "code",
   "execution_count": 16,
   "id": "7381a800",
   "metadata": {},
   "outputs": [
    {
     "ename": "NameError",
     "evalue": "name 'SAD' is not defined",
     "output_type": "error",
     "traceback": [
      "\u001b[1;31m---------------------------------------------------------------------------\u001b[0m",
      "\u001b[1;31mNameError\u001b[0m                                 Traceback (most recent call last)",
      "Input \u001b[1;32mIn [16]\u001b[0m, in \u001b[0;36m<cell line: 2>\u001b[1;34m()\u001b[0m\n\u001b[0;32m      1\u001b[0m \u001b[38;5;66;03m# Combine tokens into strings (if needed)\u001b[39;00m\n\u001b[1;32m----> 2\u001b[0m SAD[\u001b[38;5;124m'\u001b[39m\u001b[38;5;124mtweet\u001b[39m\u001b[38;5;124m'\u001b[39m] \u001b[38;5;241m=\u001b[39m \u001b[43mSAD\u001b[49m[\u001b[38;5;124m'\u001b[39m\u001b[38;5;124mtweet\u001b[39m\u001b[38;5;124m'\u001b[39m]\u001b[38;5;241m.\u001b[39mapply(\u001b[38;5;28;01mlambda\u001b[39;00m x: \u001b[38;5;124m'\u001b[39m\u001b[38;5;124m \u001b[39m\u001b[38;5;124m'\u001b[39m\u001b[38;5;241m.\u001b[39mjoin(x))\n",
      "\u001b[1;31mNameError\u001b[0m: name 'SAD' is not defined"
     ]
    }
   ],
   "source": [
    "# Combine tokens into strings (if needed)\n",
    "#SAD['tweet'] = SAD['tweet'].apply(lambda x: ' '.join(x))"
   ]
  },
  {
   "cell_type": "markdown",
   "id": "4ed7c8f3",
   "metadata": {},
   "source": [
    "## Selected Sentiment (Final)"
   ]
  },
  {
   "cell_type": "code",
   "execution_count": 8,
   "id": "dfac21f8",
   "metadata": {},
   "outputs": [
    {
     "name": "stderr",
     "output_type": "stream",
     "text": [
      "C:\\Users\\Shaun\\anaconda3\\lib\\site-packages\\transformers\\tokenization_utils_base.py:1601: FutureWarning: `clean_up_tokenization_spaces` was not set. It will be set to `True` by default. This behavior will be depracted in transformers v4.45, and will be then set to `False` by default. For more details check this issue: https://github.com/huggingface/transformers/issues/31884\n",
      "  warnings.warn(\n"
     ]
    }
   ],
   "source": [
    "#Tweet sentiment model Using a pipeline\n",
    "from transformers import pipeline\n",
    "task='sentiment'\n",
    "SentimentClassifierTweet = pipeline(\"text-classification\", model=f\"cardiffnlp/twitter-roberta-base-{task}\")\n"
   ]
  },
  {
   "cell_type": "code",
   "execution_count": 12,
   "id": "1c4f6907",
   "metadata": {},
   "outputs": [
    {
     "data": {
      "text/html": [
       "<div>\n",
       "<style scoped>\n",
       "    .dataframe tbody tr th:only-of-type {\n",
       "        vertical-align: middle;\n",
       "    }\n",
       "\n",
       "    .dataframe tbody tr th {\n",
       "        vertical-align: top;\n",
       "    }\n",
       "\n",
       "    .dataframe thead th {\n",
       "        text-align: right;\n",
       "    }\n",
       "</style>\n",
       "<table border=\"1\" class=\"dataframe\">\n",
       "  <thead>\n",
       "    <tr style=\"text-align: right;\">\n",
       "      <th></th>\n",
       "      <th>class</th>\n",
       "      <th>tweet</th>\n",
       "      <th>Sentiment</th>\n",
       "      <th>Score</th>\n",
       "    </tr>\n",
       "  </thead>\n",
       "  <tbody>\n",
       "    <tr>\n",
       "      <th>0</th>\n",
       "      <td>2</td>\n",
       "      <td>woman shouldnt complain cleaning house man alw...</td>\n",
       "      <td>LABEL_0</td>\n",
       "      <td>0.566340</td>\n",
       "    </tr>\n",
       "    <tr>\n",
       "      <th>1</th>\n",
       "      <td>1</td>\n",
       "      <td>boy dat coldtyga dwn bad cuffin dat hoe 1st place</td>\n",
       "      <td>LABEL_0</td>\n",
       "      <td>0.598608</td>\n",
       "    </tr>\n",
       "    <tr>\n",
       "      <th>2</th>\n",
       "      <td>1</td>\n",
       "      <td>dawg ever fuck bitch start cry confused shit</td>\n",
       "      <td>LABEL_0</td>\n",
       "      <td>0.974858</td>\n",
       "    </tr>\n",
       "    <tr>\n",
       "      <th>3</th>\n",
       "      <td>1</td>\n",
       "      <td>look like tranny</td>\n",
       "      <td>LABEL_0</td>\n",
       "      <td>0.673002</td>\n",
       "    </tr>\n",
       "    <tr>\n",
       "      <th>4</th>\n",
       "      <td>1</td>\n",
       "      <td>shit hear might true might faker bitch told ya</td>\n",
       "      <td>LABEL_0</td>\n",
       "      <td>0.695477</td>\n",
       "    </tr>\n",
       "    <tr>\n",
       "      <th>5</th>\n",
       "      <td>1</td>\n",
       "      <td>shit blow meclaim faithful somebody still fuck...</td>\n",
       "      <td>LABEL_0</td>\n",
       "      <td>0.973432</td>\n",
       "    </tr>\n",
       "    <tr>\n",
       "      <th>6</th>\n",
       "      <td>1</td>\n",
       "      <td>sit hate another bitch got much shit going</td>\n",
       "      <td>LABEL_0</td>\n",
       "      <td>0.977202</td>\n",
       "    </tr>\n",
       "    <tr>\n",
       "      <th>7</th>\n",
       "      <td>1</td>\n",
       "      <td>cause im tired big bitch coming u skinny girl</td>\n",
       "      <td>LABEL_0</td>\n",
       "      <td>0.877116</td>\n",
       "    </tr>\n",
       "    <tr>\n",
       "      <th>8</th>\n",
       "      <td>1</td>\n",
       "      <td>might get ya bitch back thats</td>\n",
       "      <td>LABEL_0</td>\n",
       "      <td>0.567085</td>\n",
       "    </tr>\n",
       "    <tr>\n",
       "      <th>9</th>\n",
       "      <td>1</td>\n",
       "      <td>hobby include fighting mariam bitch</td>\n",
       "      <td>LABEL_0</td>\n",
       "      <td>0.694879</td>\n",
       "    </tr>\n",
       "  </tbody>\n",
       "</table>\n",
       "</div>"
      ],
      "text/plain": [
       "   class                                              tweet Sentiment  \\\n",
       "0      2  woman shouldnt complain cleaning house man alw...   LABEL_0   \n",
       "1      1  boy dat coldtyga dwn bad cuffin dat hoe 1st place   LABEL_0   \n",
       "2      1       dawg ever fuck bitch start cry confused shit   LABEL_0   \n",
       "3      1                                   look like tranny   LABEL_0   \n",
       "4      1     shit hear might true might faker bitch told ya   LABEL_0   \n",
       "5      1  shit blow meclaim faithful somebody still fuck...   LABEL_0   \n",
       "6      1         sit hate another bitch got much shit going   LABEL_0   \n",
       "7      1      cause im tired big bitch coming u skinny girl   LABEL_0   \n",
       "8      1                      might get ya bitch back thats   LABEL_0   \n",
       "9      1                hobby include fighting mariam bitch   LABEL_0   \n",
       "\n",
       "      Score  \n",
       "0  0.566340  \n",
       "1  0.598608  \n",
       "2  0.974858  \n",
       "3  0.673002  \n",
       "4  0.695477  \n",
       "5  0.973432  \n",
       "6  0.977202  \n",
       "7  0.877116  \n",
       "8  0.567085  \n",
       "9  0.694879  "
      ]
     },
     "execution_count": 12,
     "metadata": {},
     "output_type": "execute_result"
    }
   ],
   "source": [
    "# Defining a function to call for the whole dataframe\n",
    "def FunctionBERTSentimentTweet(inpText):\n",
    "    result = SentimentClassifierTweet(inpText)[0]\n",
    "    return result['label'], result['score']\n",
    "\n",
    "# BERTTweet sentiment result function for every tweet\n",
    "LDS[['Sentiment', 'Score']] = LDS['tweet'].apply(lambda x: pd.Series(FunctionBERTSentimentTweet(x)))\n",
    "\n",
    "# Displaying the first 10 rows\n",
    "LDS.head(10)"
   ]
  },
  {
   "cell_type": "code",
   "execution_count": 13,
   "id": "c05dbe10",
   "metadata": {},
   "outputs": [
    {
     "data": {
      "text/plain": [
       "<AxesSubplot:xlabel='Score', ylabel='Sentiment'>"
      ]
     },
     "execution_count": 13,
     "metadata": {},
     "output_type": "execute_result"
    },
    {
     "data": {
      "image/png": "[encoded data removed]",
      "text/plain": [
       "<Figure size 432x288 with 1 Axes>"
      ]
     },
     "metadata": {
      "needs_background": "light"
     },
     "output_type": "display_data"
    }
   ],
   "source": [
    "#Labels: 0 -> Negative; 1 -> Neutral; 2 -> Positive\n",
    "sns.boxplot(x='Score', y='Sentiment', hue=None, data=LDS, whis=1.5, notch=False, ax=None)"
   ]
  },
  {
   "cell_type": "code",
   "execution_count": 19,
   "id": "036276b6",
   "metadata": {},
   "outputs": [
    {
     "data": {
      "text/plain": [
       "0    18198\n",
       "1     5699\n",
       "2     1086\n",
       "Name: Sentiment, dtype: int64"
      ]
     },
     "execution_count": 19,
     "metadata": {},
     "output_type": "execute_result"
    }
   ],
   "source": [
    "LDS['Sentiment'].value_counts()"
   ]
  },
  {
   "cell_type": "code",
   "execution_count": 20,
   "id": "219ffda0",
   "metadata": {},
   "outputs": [],
   "source": [
    "LDS['Sentiment'].replace('LABEL_0', 'Negative', inplace=True) #Negative\n",
    "LDS['Sentiment'].replace('LABEL_1', 'Neutral', inplace=True) #Neutral\n",
    "LDS['Sentiment'].replace('LABEL_2', 'Positive', inplace=True) #Positive"
   ]
  },
  {
   "cell_type": "code",
   "execution_count": 21,
   "id": "89302a23",
   "metadata": {},
   "outputs": [],
   "source": [
    "LDS.to_csv('DataSentiment3class.csv')"
   ]
  },
  {
   "cell_type": "markdown",
   "id": "a50a23c2",
   "metadata": {},
   "source": [
    "## OLD Data"
   ]
  },
  {
   "cell_type": "code",
   "execution_count": 8,
   "id": "c6823dae",
   "metadata": {},
   "outputs": [
    {
     "data": {
      "text/html": [
       "<div>\n",
       "<style scoped>\n",
       "    .dataframe tbody tr th:only-of-type {\n",
       "        vertical-align: middle;\n",
       "    }\n",
       "\n",
       "    .dataframe tbody tr th {\n",
       "        vertical-align: top;\n",
       "    }\n",
       "\n",
       "    .dataframe thead th {\n",
       "        text-align: right;\n",
       "    }\n",
       "</style>\n",
       "<table border=\"1\" class=\"dataframe\">\n",
       "  <thead>\n",
       "    <tr style=\"text-align: right;\">\n",
       "      <th></th>\n",
       "      <th>Unnamed: 0</th>\n",
       "      <th>count</th>\n",
       "      <th>hate_speech</th>\n",
       "      <th>offensive_language</th>\n",
       "      <th>neither</th>\n",
       "      <th>class</th>\n",
       "      <th>tweet</th>\n",
       "      <th>Sentiment</th>\n",
       "      <th>Score</th>\n",
       "    </tr>\n",
       "  </thead>\n",
       "  <tbody>\n",
       "    <tr>\n",
       "      <th>0</th>\n",
       "      <td>0</td>\n",
       "      <td>3</td>\n",
       "      <td>0</td>\n",
       "      <td>0</td>\n",
       "      <td>3</td>\n",
       "      <td>2</td>\n",
       "      <td>!!! RT @mayasolovely: As a woman you shouldn't...</td>\n",
       "      <td>LABEL_1</td>\n",
       "      <td>0.515808</td>\n",
       "    </tr>\n",
       "    <tr>\n",
       "      <th>1</th>\n",
       "      <td>1</td>\n",
       "      <td>3</td>\n",
       "      <td>0</td>\n",
       "      <td>3</td>\n",
       "      <td>0</td>\n",
       "      <td>1</td>\n",
       "      <td>!!!!! RT @mleew17: boy dats cold...tyga dwn ba...</td>\n",
       "      <td>LABEL_0</td>\n",
       "      <td>0.914856</td>\n",
       "    </tr>\n",
       "    <tr>\n",
       "      <th>2</th>\n",
       "      <td>2</td>\n",
       "      <td>3</td>\n",
       "      <td>0</td>\n",
       "      <td>3</td>\n",
       "      <td>0</td>\n",
       "      <td>1</td>\n",
       "      <td>!!!!!!! RT @UrKindOfBrand Dawg!!!! RT @80sbaby...</td>\n",
       "      <td>LABEL_0</td>\n",
       "      <td>0.949416</td>\n",
       "    </tr>\n",
       "    <tr>\n",
       "      <th>3</th>\n",
       "      <td>3</td>\n",
       "      <td>3</td>\n",
       "      <td>0</td>\n",
       "      <td>2</td>\n",
       "      <td>1</td>\n",
       "      <td>1</td>\n",
       "      <td>!!!!!!!!! RT @C_G_Anderson: @viva_based she lo...</td>\n",
       "      <td>LABEL_0</td>\n",
       "      <td>0.738627</td>\n",
       "    </tr>\n",
       "    <tr>\n",
       "      <th>4</th>\n",
       "      <td>4</td>\n",
       "      <td>6</td>\n",
       "      <td>0</td>\n",
       "      <td>6</td>\n",
       "      <td>0</td>\n",
       "      <td>1</td>\n",
       "      <td>!!!!!!!!!!!!! RT @ShenikaRoberts: The shit you...</td>\n",
       "      <td>LABEL_0</td>\n",
       "      <td>0.856830</td>\n",
       "    </tr>\n",
       "    <tr>\n",
       "      <th>5</th>\n",
       "      <td>5</td>\n",
       "      <td>3</td>\n",
       "      <td>1</td>\n",
       "      <td>2</td>\n",
       "      <td>0</td>\n",
       "      <td>1</td>\n",
       "      <td>!!!!!!!!!!!!!!!!!!\"@T_Madison_x: The shit just...</td>\n",
       "      <td>LABEL_0</td>\n",
       "      <td>0.972528</td>\n",
       "    </tr>\n",
       "    <tr>\n",
       "      <th>6</th>\n",
       "      <td>6</td>\n",
       "      <td>3</td>\n",
       "      <td>0</td>\n",
       "      <td>3</td>\n",
       "      <td>0</td>\n",
       "      <td>1</td>\n",
       "      <td>!!!!!!\"@__BrighterDays: I can not just sit up ...</td>\n",
       "      <td>LABEL_0</td>\n",
       "      <td>0.965972</td>\n",
       "    </tr>\n",
       "    <tr>\n",
       "      <th>7</th>\n",
       "      <td>7</td>\n",
       "      <td>3</td>\n",
       "      <td>0</td>\n",
       "      <td>3</td>\n",
       "      <td>0</td>\n",
       "      <td>1</td>\n",
       "      <td>!!!!&amp;#8220;@selfiequeenbri: cause I'm tired of...</td>\n",
       "      <td>LABEL_0</td>\n",
       "      <td>0.899182</td>\n",
       "    </tr>\n",
       "    <tr>\n",
       "      <th>8</th>\n",
       "      <td>8</td>\n",
       "      <td>3</td>\n",
       "      <td>0</td>\n",
       "      <td>3</td>\n",
       "      <td>0</td>\n",
       "      <td>1</td>\n",
       "      <td>\" &amp;amp; you might not get ya bitch back &amp;amp; ...</td>\n",
       "      <td>LABEL_0</td>\n",
       "      <td>0.779194</td>\n",
       "    </tr>\n",
       "    <tr>\n",
       "      <th>9</th>\n",
       "      <td>9</td>\n",
       "      <td>3</td>\n",
       "      <td>1</td>\n",
       "      <td>2</td>\n",
       "      <td>0</td>\n",
       "      <td>1</td>\n",
       "      <td>\" @rhythmixx_ :hobbies include: fighting Maria...</td>\n",
       "      <td>LABEL_1</td>\n",
       "      <td>0.620812</td>\n",
       "    </tr>\n",
       "  </tbody>\n",
       "</table>\n",
       "</div>"
      ],
      "text/plain": [
       "   Unnamed: 0  count  hate_speech  offensive_language  neither  class  \\\n",
       "0           0      3            0                   0        3      2   \n",
       "1           1      3            0                   3        0      1   \n",
       "2           2      3            0                   3        0      1   \n",
       "3           3      3            0                   2        1      1   \n",
       "4           4      6            0                   6        0      1   \n",
       "5           5      3            1                   2        0      1   \n",
       "6           6      3            0                   3        0      1   \n",
       "7           7      3            0                   3        0      1   \n",
       "8           8      3            0                   3        0      1   \n",
       "9           9      3            1                   2        0      1   \n",
       "\n",
       "                                               tweet Sentiment     Score  \n",
       "0  !!! RT @mayasolovely: As a woman you shouldn't...   LABEL_1  0.515808  \n",
       "1  !!!!! RT @mleew17: boy dats cold...tyga dwn ba...   LABEL_0  0.914856  \n",
       "2  !!!!!!! RT @UrKindOfBrand Dawg!!!! RT @80sbaby...   LABEL_0  0.949416  \n",
       "3  !!!!!!!!! RT @C_G_Anderson: @viva_based she lo...   LABEL_0  0.738627  \n",
       "4  !!!!!!!!!!!!! RT @ShenikaRoberts: The shit you...   LABEL_0  0.856830  \n",
       "5  !!!!!!!!!!!!!!!!!!\"@T_Madison_x: The shit just...   LABEL_0  0.972528  \n",
       "6  !!!!!!\"@__BrighterDays: I can not just sit up ...   LABEL_0  0.965972  \n",
       "7  !!!!&#8220;@selfiequeenbri: cause I'm tired of...   LABEL_0  0.899182  \n",
       "8  \" &amp; you might not get ya bitch back &amp; ...   LABEL_0  0.779194  \n",
       "9  \" @rhythmixx_ :hobbies include: fighting Maria...   LABEL_1  0.620812  "
      ]
     },
     "execution_count": 8,
     "metadata": {},
     "output_type": "execute_result"
    }
   ],
   "source": [
    "# Defining a function to call for the whole dataframe -OLD\n",
    "def FunctionBERTSentimentTweet(inpText):\n",
    "    result = SentimentClassifierTweet(inpText)[0]\n",
    "    return result['label'], result['score']\n",
    "\n",
    "# BERTTweet sentiment result function for every tweet\n",
    "LDS[['Sentiment', 'Score']] = LDS['tweet'].apply(lambda x: pd.Series(FunctionBERTSentimentTweet(x)))\n",
    "\n",
    "# Displaying the first 10 rows\n",
    "LDS.head(10)"
   ]
  },
  {
   "cell_type": "code",
   "execution_count": 10,
   "id": "0ff9b2bb",
   "metadata": {},
   "outputs": [
    {
     "data": {
      "text/plain": [
       "<AxesSubplot:xlabel='Score', ylabel='Sentiment'>"
      ]
     },
     "execution_count": 10,
     "metadata": {},
     "output_type": "execute_result"
    },
    {
     "data": {
      "image/png": "[encoded data removed]",
      "text/plain": [
       "<Figure size 432x288 with 1 Axes>"
      ]
     },
     "metadata": {
      "needs_background": "light"
     },
     "output_type": "display_data"
    }
   ],
   "source": [
    "#Labels: 0 -> Negative; 1 -> Neutral; 2 -> Positive\n",
    "sns.boxplot(x='Score', y='Sentiment', hue=None, data=LDS, whis=1.5, notch=False, ax=None)"
   ]
  },
  {
   "cell_type": "code",
   "execution_count": 14,
   "id": "eedcc0fb",
   "metadata": {},
   "outputs": [
    {
     "data": {
      "text/plain": [
       "LABEL_0    18145\n",
       "LABEL_1     5043\n",
       "LABEL_2     1595\n",
       "Name: Sentiment, dtype: int64"
      ]
     },
     "execution_count": 14,
     "metadata": {},
     "output_type": "execute_result"
    }
   ],
   "source": [
    "LDS['Sentiment'].value_counts()"
   ]
  },
  {
   "cell_type": "code",
   "execution_count": 15,
   "id": "9eb6cc40",
   "metadata": {},
   "outputs": [
    {
     "data": {
      "text/plain": [
       "NEU    19714\n",
       "NEG     3012\n",
       "POS     2057\n",
       "Name: Sentiment, dtype: int64"
      ]
     },
     "execution_count": 15,
     "metadata": {},
     "output_type": "execute_result"
    }
   ],
   "source": [
    "LDS1 = pd.read_csv(\"RawDataSentiment3class.csv\")\n",
    "LDS1 = LDS1.drop('Unnamed: 0', axis = 1)\n",
    "LDS1['Sentiment'].value_counts()"
   ]
  },
  {
   "cell_type": "code",
   "execution_count": null,
   "id": "5cf681b8",
   "metadata": {},
   "outputs": [],
   "source": [
    "# replace '' with ''\n",
    "LDS['Sentiment'].replace('LABEL_0', 0, inplace=True) #Negative\n",
    "LDS['Sentiment'].replace('LABEL_1', 1, inplace=True) #Neutral\n",
    "LDS['Sentiment'].replace('LABEL_2', 2, inplace=True) #Positive"
   ]
  },
  {
   "cell_type": "code",
   "execution_count": 18,
   "id": "a24f4c05",
   "metadata": {},
   "outputs": [
    {
     "data": {
      "text/html": [
       "<div>\n",
       "<style scoped>\n",
       "    .dataframe tbody tr th:only-of-type {\n",
       "        vertical-align: middle;\n",
       "    }\n",
       "\n",
       "    .dataframe tbody tr th {\n",
       "        vertical-align: top;\n",
       "    }\n",
       "\n",
       "    .dataframe thead th {\n",
       "        text-align: right;\n",
       "    }\n",
       "</style>\n",
       "<table border=\"1\" class=\"dataframe\">\n",
       "  <thead>\n",
       "    <tr style=\"text-align: right;\">\n",
       "      <th></th>\n",
       "      <th>Unnamed: 0</th>\n",
       "      <th>count</th>\n",
       "      <th>hate_speech</th>\n",
       "      <th>offensive_language</th>\n",
       "      <th>neither</th>\n",
       "      <th>class</th>\n",
       "      <th>tweet</th>\n",
       "      <th>Sentiment</th>\n",
       "      <th>Score</th>\n",
       "    </tr>\n",
       "  </thead>\n",
       "  <tbody>\n",
       "    <tr>\n",
       "      <th>0</th>\n",
       "      <td>0</td>\n",
       "      <td>3</td>\n",
       "      <td>0</td>\n",
       "      <td>0</td>\n",
       "      <td>3</td>\n",
       "      <td>2</td>\n",
       "      <td>!!! RT @mayasolovely: As a woman you shouldn't...</td>\n",
       "      <td>LABEL_1</td>\n",
       "      <td>0.515808</td>\n",
       "    </tr>\n",
       "    <tr>\n",
       "      <th>1</th>\n",
       "      <td>1</td>\n",
       "      <td>3</td>\n",
       "      <td>0</td>\n",
       "      <td>3</td>\n",
       "      <td>0</td>\n",
       "      <td>1</td>\n",
       "      <td>!!!!! RT @mleew17: boy dats cold...tyga dwn ba...</td>\n",
       "      <td>LABEL_0</td>\n",
       "      <td>0.914856</td>\n",
       "    </tr>\n",
       "    <tr>\n",
       "      <th>2</th>\n",
       "      <td>2</td>\n",
       "      <td>3</td>\n",
       "      <td>0</td>\n",
       "      <td>3</td>\n",
       "      <td>0</td>\n",
       "      <td>1</td>\n",
       "      <td>!!!!!!! RT @UrKindOfBrand Dawg!!!! RT @80sbaby...</td>\n",
       "      <td>LABEL_0</td>\n",
       "      <td>0.949416</td>\n",
       "    </tr>\n",
       "    <tr>\n",
       "      <th>3</th>\n",
       "      <td>3</td>\n",
       "      <td>3</td>\n",
       "      <td>0</td>\n",
       "      <td>2</td>\n",
       "      <td>1</td>\n",
       "      <td>1</td>\n",
       "      <td>!!!!!!!!! RT @C_G_Anderson: @viva_based she lo...</td>\n",
       "      <td>LABEL_0</td>\n",
       "      <td>0.738627</td>\n",
       "    </tr>\n",
       "    <tr>\n",
       "      <th>4</th>\n",
       "      <td>4</td>\n",
       "      <td>6</td>\n",
       "      <td>0</td>\n",
       "      <td>6</td>\n",
       "      <td>0</td>\n",
       "      <td>1</td>\n",
       "      <td>!!!!!!!!!!!!! RT @ShenikaRoberts: The shit you...</td>\n",
       "      <td>LABEL_0</td>\n",
       "      <td>0.856830</td>\n",
       "    </tr>\n",
       "    <tr>\n",
       "      <th>...</th>\n",
       "      <td>...</td>\n",
       "      <td>...</td>\n",
       "      <td>...</td>\n",
       "      <td>...</td>\n",
       "      <td>...</td>\n",
       "      <td>...</td>\n",
       "      <td>...</td>\n",
       "      <td>...</td>\n",
       "      <td>...</td>\n",
       "    </tr>\n",
       "    <tr>\n",
       "      <th>145</th>\n",
       "      <td>147</td>\n",
       "      <td>3</td>\n",
       "      <td>0</td>\n",
       "      <td>3</td>\n",
       "      <td>0</td>\n",
       "      <td>1</td>\n",
       "      <td>\"@IScoutGirls: @verbally_abrupt bitch where u ...</td>\n",
       "      <td>LABEL_1</td>\n",
       "      <td>0.544137</td>\n",
       "    </tr>\n",
       "    <tr>\n",
       "      <th>146</th>\n",
       "      <td>148</td>\n",
       "      <td>3</td>\n",
       "      <td>0</td>\n",
       "      <td>3</td>\n",
       "      <td>0</td>\n",
       "      <td>1</td>\n",
       "      <td>\"@ItsYahBoiRay: @anelylove if I don't get my d...</td>\n",
       "      <td>LABEL_0</td>\n",
       "      <td>0.696880</td>\n",
       "    </tr>\n",
       "    <tr>\n",
       "      <th>147</th>\n",
       "      <td>149</td>\n",
       "      <td>3</td>\n",
       "      <td>0</td>\n",
       "      <td>2</td>\n",
       "      <td>1</td>\n",
       "      <td>1</td>\n",
       "      <td>\"@Itsyesie: #oomf is soooo cute. But he probab...</td>\n",
       "      <td>LABEL_2</td>\n",
       "      <td>0.488928</td>\n",
       "    </tr>\n",
       "    <tr>\n",
       "      <th>148</th>\n",
       "      <td>150</td>\n",
       "      <td>3</td>\n",
       "      <td>0</td>\n",
       "      <td>3</td>\n",
       "      <td>0</td>\n",
       "      <td>1</td>\n",
       "      <td>\"@JAYten9: In every cartoon theirs alway a @_n...</td>\n",
       "      <td>LABEL_0</td>\n",
       "      <td>0.479799</td>\n",
       "    </tr>\n",
       "    <tr>\n",
       "      <th>149</th>\n",
       "      <td>151</td>\n",
       "      <td>3</td>\n",
       "      <td>0</td>\n",
       "      <td>1</td>\n",
       "      <td>2</td>\n",
       "      <td>2</td>\n",
       "      <td>\"@JReebo: Who wants to get there nose in these...</td>\n",
       "      <td>LABEL_0</td>\n",
       "      <td>0.797090</td>\n",
       "    </tr>\n",
       "  </tbody>\n",
       "</table>\n",
       "<p>150 rows × 9 columns</p>\n",
       "</div>"
      ],
      "text/plain": [
       "     Unnamed: 0  count  hate_speech  offensive_language  neither  class  \\\n",
       "0             0      3            0                   0        3      2   \n",
       "1             1      3            0                   3        0      1   \n",
       "2             2      3            0                   3        0      1   \n",
       "3             3      3            0                   2        1      1   \n",
       "4             4      6            0                   6        0      1   \n",
       "..          ...    ...          ...                 ...      ...    ...   \n",
       "145         147      3            0                   3        0      1   \n",
       "146         148      3            0                   3        0      1   \n",
       "147         149      3            0                   2        1      1   \n",
       "148         150      3            0                   3        0      1   \n",
       "149         151      3            0                   1        2      2   \n",
       "\n",
       "                                                 tweet Sentiment     Score  \n",
       "0    !!! RT @mayasolovely: As a woman you shouldn't...   LABEL_1  0.515808  \n",
       "1    !!!!! RT @mleew17: boy dats cold...tyga dwn ba...   LABEL_0  0.914856  \n",
       "2    !!!!!!! RT @UrKindOfBrand Dawg!!!! RT @80sbaby...   LABEL_0  0.949416  \n",
       "3    !!!!!!!!! RT @C_G_Anderson: @viva_based she lo...   LABEL_0  0.738627  \n",
       "4    !!!!!!!!!!!!! RT @ShenikaRoberts: The shit you...   LABEL_0  0.856830  \n",
       "..                                                 ...       ...       ...  \n",
       "145  \"@IScoutGirls: @verbally_abrupt bitch where u ...   LABEL_1  0.544137  \n",
       "146  \"@ItsYahBoiRay: @anelylove if I don't get my d...   LABEL_0  0.696880  \n",
       "147  \"@Itsyesie: #oomf is soooo cute. But he probab...   LABEL_2  0.488928  \n",
       "148  \"@JAYten9: In every cartoon theirs alway a @_n...   LABEL_0  0.479799  \n",
       "149  \"@JReebo: Who wants to get there nose in these...   LABEL_0  0.797090  \n",
       "\n",
       "[150 rows x 9 columns]"
      ]
     },
     "execution_count": 18,
     "metadata": {},
     "output_type": "execute_result"
    }
   ],
   "source": [
    "LDS.head(150)"
   ]
  },
  {
   "cell_type": "code",
   "execution_count": 19,
   "id": "3c4a2b84",
   "metadata": {},
   "outputs": [],
   "source": [
    "LDS.to_csv('RawDataSentiment3class.csv')"
   ]
  },
  {
   "cell_type": "code",
   "execution_count": null,
   "id": "3ececb3b",
   "metadata": {},
   "outputs": [],
   "source": []
  }
 ],
 "metadata": {
  "kernelspec": {
   "display_name": "Python 3 (ipykernel)",
   "language": "python",
   "name": "python3"
  },
  "language_info": {
   "codemirror_mode": {
    "name": "ipython",
    "version": 3
   },
   "file_extension": ".py",
   "mimetype": "text/x-python",
   "name": "python",
   "nbconvert_exporter": "python",
   "pygments_lexer": "ipython3",
   "version": "3.9.12"
  }
 },
 "nbformat": 4,
 "nbformat_minor": 5
}
